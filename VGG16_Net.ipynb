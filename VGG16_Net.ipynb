{
  "nbformat": 4,
  "nbformat_minor": 0,
  "metadata": {
    "colab": {
      "name": "VGG16 Net",
      "provenance": [],
      "collapsed_sections": [],
      "machine_shape": "hm",
      "mount_file_id": "1YCi_N7d0VDrWSQVGsJM3zzCHLJCXqPDT",
      "authorship_tag": "ABX9TyPJaPhN7LqKaCjsmwsWc3zV",
      "include_colab_link": true
    },
    "kernelspec": {
      "name": "python3",
      "display_name": "Python 3"
    },
    "accelerator": "GPU"
  },
  "cells": [
    {
      "cell_type": "markdown",
      "metadata": {
        "id": "view-in-github",
        "colab_type": "text"
      },
      "source": [
        "<a href=\"https://colab.research.google.com/github/akaashsidhu/Skin-Cancer-Classification/blob/master/VGG16_Net.ipynb\" target=\"_parent\"><img src=\"https://colab.research.google.com/assets/colab-badge.svg\" alt=\"Open In Colab\"/></a>"
      ]
    },
    {
      "cell_type": "code",
      "metadata": {
        "id": "fduIopYuvhTv",
        "colab_type": "code",
        "colab": {
          "base_uri": "https://localhost:8080/",
          "height": 81
        },
        "outputId": "90031dac-b62c-4c71-e783-587dcdb21640"
      },
      "source": [
        "import os\n",
        "import pandas as pd\n",
        "import numpy as np\n",
        "import cv2\n",
        "import pickle\n",
        "\n",
        "import random\n",
        "from keras.layers import Input\n",
        "from keras.models import Model\n",
        "from keras import backend as K\n",
        "from tqdm import tqdm\n",
        "from keras.applications.vgg16 import VGG16\n",
        "from keras.datasets import mnist\n",
        "from keras.utils.np_utils import to_categorical\n",
        "from keras.callbacks import EarlyStopping\n",
        "from keras.preprocessing.image import ImageDataGenerator\n",
        "from keras.callbacks import ReduceLROnPlateau\n",
        "from keras.models import Sequential\n",
        "from keras.layers import Dense, Dropout, Flatten\n",
        "from keras.layers import Conv2D, MaxPooling2D\n",
        "from sklearn.model_selection import train_test_split\n",
        "from typing import Optional\n",
        "from PIL import Image"
      ],
      "execution_count": 1,
      "outputs": [
        {
          "output_type": "stream",
          "text": [
            "Using TensorFlow backend.\n"
          ],
          "name": "stderr"
        },
        {
          "output_type": "display_data",
          "data": {
            "text/html": [
              "<p style=\"color: red;\">\n",
              "The default version of TensorFlow in Colab will soon switch to TensorFlow 2.x.<br>\n",
              "We recommend you <a href=\"https://www.tensorflow.org/guide/migrate\" target=\"_blank\">upgrade</a> now \n",
              "or ensure your notebook will continue to use TensorFlow 1.x via the <code>%tensorflow_version 1.x</code> magic:\n",
              "<a href=\"https://colab.research.google.com/notebooks/tensorflow_version.ipynb\" target=\"_blank\">more info</a>.</p>\n"
            ],
            "text/plain": [
              "<IPython.core.display.HTML object>"
            ]
          },
          "metadata": {
            "tags": []
          }
        }
      ]
    },
    {
      "cell_type": "code",
      "metadata": {
        "id": "lwj9Qn1Jv6YD",
        "colab_type": "code",
        "colab": {
          "base_uri": "https://localhost:8080/",
          "height": 35
        },
        "outputId": "d70c97c3-be10-493f-de5b-f1a2ced9dc5c"
      },
      "source": [
        "search_dir = '/content/drive/My Drive/Data'\n",
        "os.chdir(search_dir)\n",
        "os.listdir()"
      ],
      "execution_count": 2,
      "outputs": [
        {
          "output_type": "execute_result",
          "data": {
            "text/plain": [
              "['y_train.pickle', 'X_train.pickle', 'y_test.pickle', 'X_test.pickle']"
            ]
          },
          "metadata": {
            "tags": []
          },
          "execution_count": 2
        }
      ]
    },
    {
      "cell_type": "code",
      "metadata": {
        "id": "Qb0Kf2mWwYxH",
        "colab_type": "code",
        "colab": {}
      },
      "source": [
        "pickle_in = open(\"X_train.pickle\",\"rb\")\n",
        "X_train = pickle.load(pickle_in)\n",
        "\n",
        "pickle_in = open(\"X_test.pickle\",\"rb\")\n",
        "X_test = pickle.load(pickle_in)\n",
        "\n",
        "pickle_in = open(\"y_train.pickle\",\"rb\")\n",
        "y_train = pickle.load(pickle_in)\n",
        "\n",
        "pickle_in = open(\"y_test.pickle\",\"rb\")\n",
        "y_test = pickle.load(pickle_in)"
      ],
      "execution_count": 0,
      "outputs": []
    },
    {
      "cell_type": "code",
      "metadata": {
        "id": "7-2ayJmIwbj_",
        "colab_type": "code",
        "colab": {}
      },
      "source": [
        "X_train = X_train/255\n",
        "num_classes = len(set(y_train))\n",
        "y_train = np.eye(num_classes)[np.array(y_train.astype(int)).reshape(-1)]"
      ],
      "execution_count": 0,
      "outputs": []
    },
    {
      "cell_type": "code",
      "metadata": {
        "id": "IzkzBE18Rj3A",
        "colab_type": "code",
        "colab": {
          "base_uri": "https://localhost:8080/",
          "height": 35
        },
        "outputId": "77a85d56-22be-438f-d13f-a83e86a6783b"
      },
      "source": [
        "y_train.shape"
      ],
      "execution_count": 5,
      "outputs": [
        {
          "output_type": "execute_result",
          "data": {
            "text/plain": [
              "(9013, 7)"
            ]
          },
          "metadata": {
            "tags": []
          },
          "execution_count": 5
        }
      ]
    },
    {
      "cell_type": "code",
      "metadata": {
        "id": "iCz45UFZJtrd",
        "colab_type": "code",
        "colab": {}
      },
      "source": [
        "X_test = X_test/255\n",
        "num_classes = len(set(y_test))\n",
        "y_test = np.eye(num_classes)[np.array(y_test.astype(int)).reshape(-1)]"
      ],
      "execution_count": 0,
      "outputs": []
    },
    {
      "cell_type": "code",
      "metadata": {
        "id": "ISit84o2JV9n",
        "colab_type": "code",
        "colab": {}
      },
      "source": [
        "IMG_SIZE = 224"
      ],
      "execution_count": 0,
      "outputs": []
    },
    {
      "cell_type": "code",
      "metadata": {
        "id": "wmD4mffTxCeT",
        "colab_type": "code",
        "colab": {}
      },
      "source": [
        "def recall_m(y_true, y_pred):\n",
        "        true_positives = K.sum(K.round(K.clip(y_true * y_pred, 0, 1)))\n",
        "        possible_positives = K.sum(K.round(K.clip(y_true, 0, 1)))\n",
        "        recall = true_positives / (possible_positives + K.epsilon())\n",
        "        return recall\n",
        "\n",
        "def precision_m(y_true, y_pred):\n",
        "        true_positives = K.sum(K.round(K.clip(y_true * y_pred, 0, 1)))\n",
        "        predicted_positives = K.sum(K.round(K.clip(y_pred, 0, 1)))\n",
        "        precision = true_positives / (predicted_positives + K.epsilon())\n",
        "        return precision\n",
        "\n",
        "def f1_m(y_true, y_pred):\n",
        "    precision = precision_m(y_true, y_pred)\n",
        "    recall = recall_m(y_true, y_pred)\n",
        "    return 2*((precision*recall)/(precision+recall+K.epsilon()))"
      ],
      "execution_count": 0,
      "outputs": []
    },
    {
      "cell_type": "code",
      "metadata": {
        "id": "nIXzpfQvw75T",
        "colab_type": "code",
        "colab": {
          "base_uri": "https://localhost:8080/",
          "height": 384
        },
        "outputId": "58f1a194-e4a4-4d3a-affc-acf674999e7b"
      },
      "source": [
        "pre_trained_model = VGG16(input_shape=(IMG_SIZE, IMG_SIZE, 3), include_top=False, weights=\"imagenet\")"
      ],
      "execution_count": 8,
      "outputs": [
        {
          "output_type": "stream",
          "text": [
            "WARNING:tensorflow:From /usr/local/lib/python3.6/dist-packages/keras/backend/tensorflow_backend.py:66: The name tf.get_default_graph is deprecated. Please use tf.compat.v1.get_default_graph instead.\n",
            "\n",
            "WARNING:tensorflow:From /usr/local/lib/python3.6/dist-packages/keras/backend/tensorflow_backend.py:541: The name tf.placeholder is deprecated. Please use tf.compat.v1.placeholder instead.\n",
            "\n",
            "WARNING:tensorflow:From /usr/local/lib/python3.6/dist-packages/keras/backend/tensorflow_backend.py:4432: The name tf.random_uniform is deprecated. Please use tf.random.uniform instead.\n",
            "\n",
            "WARNING:tensorflow:From /usr/local/lib/python3.6/dist-packages/keras/backend/tensorflow_backend.py:4267: The name tf.nn.max_pool is deprecated. Please use tf.nn.max_pool2d instead.\n",
            "\n",
            "WARNING:tensorflow:From /usr/local/lib/python3.6/dist-packages/keras/backend/tensorflow_backend.py:190: The name tf.get_default_session is deprecated. Please use tf.compat.v1.get_default_session instead.\n",
            "\n",
            "WARNING:tensorflow:From /usr/local/lib/python3.6/dist-packages/keras/backend/tensorflow_backend.py:197: The name tf.ConfigProto is deprecated. Please use tf.compat.v1.ConfigProto instead.\n",
            "\n",
            "WARNING:tensorflow:From /usr/local/lib/python3.6/dist-packages/keras/backend/tensorflow_backend.py:203: The name tf.Session is deprecated. Please use tf.compat.v1.Session instead.\n",
            "\n",
            "WARNING:tensorflow:From /usr/local/lib/python3.6/dist-packages/keras/backend/tensorflow_backend.py:207: The name tf.global_variables is deprecated. Please use tf.compat.v1.global_variables instead.\n",
            "\n",
            "WARNING:tensorflow:From /usr/local/lib/python3.6/dist-packages/keras/backend/tensorflow_backend.py:216: The name tf.is_variable_initialized is deprecated. Please use tf.compat.v1.is_variable_initialized instead.\n",
            "\n",
            "WARNING:tensorflow:From /usr/local/lib/python3.6/dist-packages/keras/backend/tensorflow_backend.py:223: The name tf.variables_initializer is deprecated. Please use tf.compat.v1.variables_initializer instead.\n",
            "\n"
          ],
          "name": "stdout"
        }
      ]
    },
    {
      "cell_type": "code",
      "metadata": {
        "id": "5rPUEqXaEvrz",
        "colab_type": "code",
        "colab": {
          "base_uri": "https://localhost:8080/",
          "height": 347
        },
        "outputId": "ec0653d1-a7ec-4128-beeb-31816e94f80f"
      },
      "source": [
        "for layer in pre_trained_model.layers:\n",
        "    print(layer.name)\n",
        "    layer.trainable = False"
      ],
      "execution_count": 9,
      "outputs": [
        {
          "output_type": "stream",
          "text": [
            "input_1\n",
            "block1_conv1\n",
            "block1_conv2\n",
            "block1_pool\n",
            "block2_conv1\n",
            "block2_conv2\n",
            "block2_pool\n",
            "block3_conv1\n",
            "block3_conv2\n",
            "block3_conv3\n",
            "block3_pool\n",
            "block4_conv1\n",
            "block4_conv2\n",
            "block4_conv3\n",
            "block4_pool\n",
            "block5_conv1\n",
            "block5_conv2\n",
            "block5_conv3\n",
            "block5_pool\n"
          ],
          "name": "stdout"
        }
      ]
    },
    {
      "cell_type": "code",
      "metadata": {
        "id": "btn0dUHsEzEu",
        "colab_type": "code",
        "colab": {
          "base_uri": "https://localhost:8080/",
          "height": 35
        },
        "outputId": "a0709be6-feb0-488d-e7d6-b4187b30b18c"
      },
      "source": [
        "last_layer = pre_trained_model.get_layer('block5_pool')\n",
        "print('last layer output shape:', last_layer.output_shape)\n",
        "last_output = last_layer.output"
      ],
      "execution_count": 10,
      "outputs": [
        {
          "output_type": "stream",
          "text": [
            "last layer output shape: (None, 7, 7, 512)\n"
          ],
          "name": "stdout"
        }
      ]
    },
    {
      "cell_type": "code",
      "metadata": {
        "id": "yFFQzQysE43w",
        "colab_type": "code",
        "colab": {
          "base_uri": "https://localhost:8080/",
          "height": 193
        },
        "outputId": "3b62398d-ee84-4139-d0c0-4072353f099a"
      },
      "source": [
        "from keras import layers\n",
        "from keras.optimizers import Adam\n",
        "\n",
        "# Flatten the output layer to 1 dimension\n",
        "x = layers.GlobalMaxPooling2D()(last_output)\n",
        "# Add a fully connected layer with 512 hidden units and ReLU activation\n",
        "x = layers.Dense(512, activation='relu')(x)\n",
        "# Add a dropout rate of 0.5\n",
        "x = layers.Dropout(0.5)(x)\n",
        "# Add a final sigmoid layer for classification\n",
        "x = layers.Dense(7, activation='softmax')(x)\n",
        "\n",
        "# Configure and compile the model\n",
        "\n",
        "model = Model(pre_trained_model.input, x)\n",
        "optimizer = Adam(lr=0.0001, beta_1=0.9, beta_2=0.999, epsilon=None, decay=0.0, amsgrad=True)\n",
        "model.compile(loss='categorical_crossentropy',\n",
        "              optimizer=optimizer,\n",
        "              metrics=['acc',f1_m,precision_m, recall_m])"
      ],
      "execution_count": 13,
      "outputs": [
        {
          "output_type": "stream",
          "text": [
            "WARNING:tensorflow:From /usr/local/lib/python3.6/dist-packages/keras/backend/tensorflow_backend.py:148: The name tf.placeholder_with_default is deprecated. Please use tf.compat.v1.placeholder_with_default instead.\n",
            "\n",
            "WARNING:tensorflow:From /usr/local/lib/python3.6/dist-packages/keras/backend/tensorflow_backend.py:3733: calling dropout (from tensorflow.python.ops.nn_ops) with keep_prob is deprecated and will be removed in a future version.\n",
            "Instructions for updating:\n",
            "Please use `rate` instead of `keep_prob`. Rate should be set to `rate = 1 - keep_prob`.\n",
            "WARNING:tensorflow:From /usr/local/lib/python3.6/dist-packages/keras/optimizers.py:793: The name tf.train.Optimizer is deprecated. Please use tf.compat.v1.train.Optimizer instead.\n",
            "\n",
            "WARNING:tensorflow:From /usr/local/lib/python3.6/dist-packages/keras/backend/tensorflow_backend.py:3576: The name tf.log is deprecated. Please use tf.math.log instead.\n",
            "\n"
          ],
          "name": "stdout"
        }
      ]
    },
    {
      "cell_type": "code",
      "metadata": {
        "id": "6yIFEmgcFMfL",
        "colab_type": "code",
        "colab": {
          "base_uri": "https://localhost:8080/",
          "height": 953
        },
        "outputId": "2536c399-e7c8-4127-9409-ea3eaee50085"
      },
      "source": [
        "model.summary()"
      ],
      "execution_count": 14,
      "outputs": [
        {
          "output_type": "stream",
          "text": [
            "Model: \"model_1\"\n",
            "_________________________________________________________________\n",
            "Layer (type)                 Output Shape              Param #   \n",
            "=================================================================\n",
            "input_1 (InputLayer)         (None, 224, 224, 3)       0         \n",
            "_________________________________________________________________\n",
            "block1_conv1 (Conv2D)        (None, 224, 224, 64)      1792      \n",
            "_________________________________________________________________\n",
            "block1_conv2 (Conv2D)        (None, 224, 224, 64)      36928     \n",
            "_________________________________________________________________\n",
            "block1_pool (MaxPooling2D)   (None, 112, 112, 64)      0         \n",
            "_________________________________________________________________\n",
            "block2_conv1 (Conv2D)        (None, 112, 112, 128)     73856     \n",
            "_________________________________________________________________\n",
            "block2_conv2 (Conv2D)        (None, 112, 112, 128)     147584    \n",
            "_________________________________________________________________\n",
            "block2_pool (MaxPooling2D)   (None, 56, 56, 128)       0         \n",
            "_________________________________________________________________\n",
            "block3_conv1 (Conv2D)        (None, 56, 56, 256)       295168    \n",
            "_________________________________________________________________\n",
            "block3_conv2 (Conv2D)        (None, 56, 56, 256)       590080    \n",
            "_________________________________________________________________\n",
            "block3_conv3 (Conv2D)        (None, 56, 56, 256)       590080    \n",
            "_________________________________________________________________\n",
            "block3_pool (MaxPooling2D)   (None, 28, 28, 256)       0         \n",
            "_________________________________________________________________\n",
            "block4_conv1 (Conv2D)        (None, 28, 28, 512)       1180160   \n",
            "_________________________________________________________________\n",
            "block4_conv2 (Conv2D)        (None, 28, 28, 512)       2359808   \n",
            "_________________________________________________________________\n",
            "block4_conv3 (Conv2D)        (None, 28, 28, 512)       2359808   \n",
            "_________________________________________________________________\n",
            "block4_pool (MaxPooling2D)   (None, 14, 14, 512)       0         \n",
            "_________________________________________________________________\n",
            "block5_conv1 (Conv2D)        (None, 14, 14, 512)       2359808   \n",
            "_________________________________________________________________\n",
            "block5_conv2 (Conv2D)        (None, 14, 14, 512)       2359808   \n",
            "_________________________________________________________________\n",
            "block5_conv3 (Conv2D)        (None, 14, 14, 512)       2359808   \n",
            "_________________________________________________________________\n",
            "block5_pool (MaxPooling2D)   (None, 7, 7, 512)         0         \n",
            "_________________________________________________________________\n",
            "global_max_pooling2d_1 (Glob (None, 512)               0         \n",
            "_________________________________________________________________\n",
            "dense_1 (Dense)              (None, 512)               262656    \n",
            "_________________________________________________________________\n",
            "dropout_1 (Dropout)          (None, 512)               0         \n",
            "_________________________________________________________________\n",
            "dense_2 (Dense)              (None, 7)                 3591      \n",
            "=================================================================\n",
            "Total params: 14,980,935\n",
            "Trainable params: 266,247\n",
            "Non-trainable params: 14,714,688\n",
            "_________________________________________________________________\n"
          ],
          "name": "stdout"
        }
      ]
    },
    {
      "cell_type": "code",
      "metadata": {
        "id": "920L5yFUFSfe",
        "colab_type": "code",
        "colab": {}
      },
      "source": [
        "train_datagen = ImageDataGenerator(rotation_range=60, width_shift_range=0.2, height_shift_range=0.2,\n",
        "                                   shear_range=0.2, zoom_range=0.2, fill_mode='nearest')\n",
        "\n",
        "train_datagen.fit(X_train)"
      ],
      "execution_count": 0,
      "outputs": []
    },
    {
      "cell_type": "code",
      "metadata": {
        "id": "_G2bbpbjFUJ3",
        "colab_type": "code",
        "colab": {
          "base_uri": "https://localhost:8080/",
          "height": 263
        },
        "outputId": "5484d122-cc56-49a9-95ff-b4e893d472cb"
      },
      "source": [
        "batch_size = 64\n",
        "epochs = 3\n",
        "history = model.fit_generator(train_datagen.flow(X_train,y_train, batch_size=batch_size), epochs = epochs)"
      ],
      "execution_count": 16,
      "outputs": [
        {
          "output_type": "stream",
          "text": [
            "WARNING:tensorflow:From /usr/local/lib/python3.6/dist-packages/tensorflow_core/python/ops/math_grad.py:1424: where (from tensorflow.python.ops.array_ops) is deprecated and will be removed in a future version.\n",
            "Instructions for updating:\n",
            "Use tf.where in 2.0, which has the same broadcast rule as np.where\n",
            "WARNING:tensorflow:From /usr/local/lib/python3.6/dist-packages/keras/backend/tensorflow_backend.py:1033: The name tf.assign_add is deprecated. Please use tf.compat.v1.assign_add instead.\n",
            "\n",
            "WARNING:tensorflow:From /usr/local/lib/python3.6/dist-packages/keras/backend/tensorflow_backend.py:1020: The name tf.assign is deprecated. Please use tf.compat.v1.assign instead.\n",
            "\n",
            "Epoch 1/3\n",
            "141/141 [==============================] - 111s 789ms/step - loss: 1.2524 - acc: 0.6346 - f1_m: 0.5872 - precision_m: 0.6633 - recall_m: 0.5330\n",
            "Epoch 2/3\n",
            "141/141 [==============================] - 100s 709ms/step - loss: 1.0706 - acc: 0.6676 - f1_m: 0.6565 - precision_m: 0.7287 - recall_m: 0.5985\n",
            "Epoch 3/3\n",
            "141/141 [==============================] - 99s 703ms/step - loss: 1.0137 - acc: 0.6685 - f1_m: 0.6626 - precision_m: 0.7504 - recall_m: 0.5948\n"
          ],
          "name": "stdout"
        }
      ]
    },
    {
      "cell_type": "code",
      "metadata": {
        "id": "54UkyJHOHCjB",
        "colab_type": "code",
        "colab": {}
      },
      "source": [
        "for layer in model.layers[:15]:\n",
        "    layer.trainable = False\n",
        "\n",
        "for layer in model.layers[15:]:\n",
        "    layer.trainable = True"
      ],
      "execution_count": 0,
      "outputs": []
    },
    {
      "cell_type": "code",
      "metadata": {
        "id": "wFEHmC2DHGmK",
        "colab_type": "code",
        "colab": {
          "base_uri": "https://localhost:8080/",
          "height": 953
        },
        "outputId": "72a67f99-522a-4661-d21a-eea148d04e96"
      },
      "source": [
        "optimizer = Adam(lr=0.0001, beta_1=0.9, beta_2=0.999, epsilon=None, decay=0.0, amsgrad=False)\n",
        "model.compile(loss='categorical_crossentropy',\n",
        "              optimizer=optimizer,\n",
        "              metrics=['acc',f1_m,precision_m, recall_m])\n",
        "\n",
        "model.summary()"
      ],
      "execution_count": 18,
      "outputs": [
        {
          "output_type": "stream",
          "text": [
            "Model: \"model_1\"\n",
            "_________________________________________________________________\n",
            "Layer (type)                 Output Shape              Param #   \n",
            "=================================================================\n",
            "input_1 (InputLayer)         (None, 224, 224, 3)       0         \n",
            "_________________________________________________________________\n",
            "block1_conv1 (Conv2D)        (None, 224, 224, 64)      1792      \n",
            "_________________________________________________________________\n",
            "block1_conv2 (Conv2D)        (None, 224, 224, 64)      36928     \n",
            "_________________________________________________________________\n",
            "block1_pool (MaxPooling2D)   (None, 112, 112, 64)      0         \n",
            "_________________________________________________________________\n",
            "block2_conv1 (Conv2D)        (None, 112, 112, 128)     73856     \n",
            "_________________________________________________________________\n",
            "block2_conv2 (Conv2D)        (None, 112, 112, 128)     147584    \n",
            "_________________________________________________________________\n",
            "block2_pool (MaxPooling2D)   (None, 56, 56, 128)       0         \n",
            "_________________________________________________________________\n",
            "block3_conv1 (Conv2D)        (None, 56, 56, 256)       295168    \n",
            "_________________________________________________________________\n",
            "block3_conv2 (Conv2D)        (None, 56, 56, 256)       590080    \n",
            "_________________________________________________________________\n",
            "block3_conv3 (Conv2D)        (None, 56, 56, 256)       590080    \n",
            "_________________________________________________________________\n",
            "block3_pool (MaxPooling2D)   (None, 28, 28, 256)       0         \n",
            "_________________________________________________________________\n",
            "block4_conv1 (Conv2D)        (None, 28, 28, 512)       1180160   \n",
            "_________________________________________________________________\n",
            "block4_conv2 (Conv2D)        (None, 28, 28, 512)       2359808   \n",
            "_________________________________________________________________\n",
            "block4_conv3 (Conv2D)        (None, 28, 28, 512)       2359808   \n",
            "_________________________________________________________________\n",
            "block4_pool (MaxPooling2D)   (None, 14, 14, 512)       0         \n",
            "_________________________________________________________________\n",
            "block5_conv1 (Conv2D)        (None, 14, 14, 512)       2359808   \n",
            "_________________________________________________________________\n",
            "block5_conv2 (Conv2D)        (None, 14, 14, 512)       2359808   \n",
            "_________________________________________________________________\n",
            "block5_conv3 (Conv2D)        (None, 14, 14, 512)       2359808   \n",
            "_________________________________________________________________\n",
            "block5_pool (MaxPooling2D)   (None, 7, 7, 512)         0         \n",
            "_________________________________________________________________\n",
            "global_max_pooling2d_1 (Glob (None, 512)               0         \n",
            "_________________________________________________________________\n",
            "dense_1 (Dense)              (None, 512)               262656    \n",
            "_________________________________________________________________\n",
            "dropout_1 (Dropout)          (None, 512)               0         \n",
            "_________________________________________________________________\n",
            "dense_2 (Dense)              (None, 7)                 3591      \n",
            "=================================================================\n",
            "Total params: 14,980,935\n",
            "Trainable params: 7,345,671\n",
            "Non-trainable params: 7,635,264\n",
            "_________________________________________________________________\n"
          ],
          "name": "stdout"
        }
      ]
    },
    {
      "cell_type": "code",
      "metadata": {
        "id": "XsVFWhGMHPDV",
        "colab_type": "code",
        "colab": {}
      },
      "source": [
        "learning_rate_reduction = ReduceLROnPlateau(monitor='acc', patience=3, verbose=1, factor=0.5, \n",
        "                                            min_lr=0.000001, cooldown=3)"
      ],
      "execution_count": 0,
      "outputs": []
    },
    {
      "cell_type": "code",
      "metadata": {
        "id": "CFTZ9A-CHPuz",
        "colab_type": "code",
        "colab": {
          "base_uri": "https://localhost:8080/",
          "height": 1000
        },
        "outputId": "61414fcb-ae2a-462c-f147-4c4f743b4d6f"
      },
      "source": [
        "batch_size = 64\n",
        "epochs = 30\n",
        "history = model.fit_generator(train_datagen.flow(X_train,y_train, batch_size=batch_size),\n",
        "                              epochs = epochs,\n",
        "                              verbose = 1, callbacks=[learning_rate_reduction])"
      ],
      "execution_count": 20,
      "outputs": [
        {
          "output_type": "stream",
          "text": [
            "Epoch 1/30\n",
            "141/141 [==============================] - 104s 735ms/step - loss: 0.8756 - acc: 0.6941 - f1_m: 0.6935 - precision_m: 0.8111 - recall_m: 0.6088\n",
            "Epoch 2/30\n",
            "141/141 [==============================] - 106s 753ms/step - loss: 0.7506 - acc: 0.7292 - f1_m: 0.7239 - precision_m: 0.8281 - recall_m: 0.6445\n",
            "Epoch 3/30\n",
            "141/141 [==============================] - 100s 708ms/step - loss: 0.7031 - acc: 0.7471 - f1_m: 0.7388 - precision_m: 0.8371 - recall_m: 0.6627\n",
            "Epoch 4/30\n",
            "141/141 [==============================] - 102s 722ms/step - loss: 0.6723 - acc: 0.7566 - f1_m: 0.7493 - precision_m: 0.8384 - recall_m: 0.6789\n",
            "Epoch 5/30\n",
            "141/141 [==============================] - 100s 710ms/step - loss: 0.6320 - acc: 0.7733 - f1_m: 0.7659 - precision_m: 0.8481 - recall_m: 0.6996\n",
            "Epoch 6/30\n",
            "141/141 [==============================] - 100s 710ms/step - loss: 0.5973 - acc: 0.7852 - f1_m: 0.7802 - precision_m: 0.8540 - recall_m: 0.7193\n",
            "Epoch 7/30\n",
            "141/141 [==============================] - 104s 739ms/step - loss: 0.5795 - acc: 0.7853 - f1_m: 0.7818 - precision_m: 0.8504 - recall_m: 0.7245\n",
            "Epoch 8/30\n",
            "141/141 [==============================] - 101s 715ms/step - loss: 0.5475 - acc: 0.7982 - f1_m: 0.7942 - precision_m: 0.8544 - recall_m: 0.7429\n",
            "Epoch 9/30\n",
            "141/141 [==============================] - 102s 724ms/step - loss: 0.5246 - acc: 0.8103 - f1_m: 0.8077 - precision_m: 0.8653 - recall_m: 0.7582\n",
            "Epoch 10/30\n",
            "141/141 [==============================] - 103s 732ms/step - loss: 0.5079 - acc: 0.8119 - f1_m: 0.8114 - precision_m: 0.8645 - recall_m: 0.7651\n",
            "Epoch 11/30\n",
            "141/141 [==============================] - 103s 731ms/step - loss: 0.4817 - acc: 0.8250 - f1_m: 0.8222 - precision_m: 0.8687 - recall_m: 0.7810\n",
            "Epoch 12/30\n",
            "141/141 [==============================] - 104s 735ms/step - loss: 0.4696 - acc: 0.8292 - f1_m: 0.8276 - precision_m: 0.8749 - recall_m: 0.7859\n",
            "Epoch 13/30\n",
            "141/141 [==============================] - 101s 718ms/step - loss: 0.4558 - acc: 0.8337 - f1_m: 0.8358 - precision_m: 0.8805 - recall_m: 0.7960\n",
            "Epoch 14/30\n",
            "141/141 [==============================] - 102s 725ms/step - loss: 0.4222 - acc: 0.8463 - f1_m: 0.8475 - precision_m: 0.8881 - recall_m: 0.8111\n",
            "Epoch 15/30\n",
            "141/141 [==============================] - 99s 706ms/step - loss: 0.4008 - acc: 0.8534 - f1_m: 0.8552 - precision_m: 0.8935 - recall_m: 0.8206\n",
            "Epoch 16/30\n",
            "141/141 [==============================] - 102s 720ms/step - loss: 0.3811 - acc: 0.8648 - f1_m: 0.8627 - precision_m: 0.8959 - recall_m: 0.8325\n",
            "Epoch 17/30\n",
            "141/141 [==============================] - 103s 734ms/step - loss: 0.3746 - acc: 0.8611 - f1_m: 0.8612 - precision_m: 0.8950 - recall_m: 0.8303\n",
            "Epoch 18/30\n",
            "141/141 [==============================] - 101s 715ms/step - loss: 0.3585 - acc: 0.8705 - f1_m: 0.8692 - precision_m: 0.8999 - recall_m: 0.8409\n",
            "Epoch 19/30\n",
            "141/141 [==============================] - 102s 724ms/step - loss: 0.3401 - acc: 0.8753 - f1_m: 0.8754 - precision_m: 0.9045 - recall_m: 0.8486\n",
            "Epoch 20/30\n",
            "141/141 [==============================] - 100s 707ms/step - loss: 0.3244 - acc: 0.8819 - f1_m: 0.8814 - precision_m: 0.9080 - recall_m: 0.8567\n",
            "Epoch 21/30\n",
            "141/141 [==============================] - 100s 710ms/step - loss: 0.3004 - acc: 0.8916 - f1_m: 0.8906 - precision_m: 0.9152 - recall_m: 0.8677\n",
            "Epoch 22/30\n",
            "141/141 [==============================] - 101s 718ms/step - loss: 0.2947 - acc: 0.8947 - f1_m: 0.8966 - precision_m: 0.9192 - recall_m: 0.8754\n",
            "Epoch 23/30\n",
            "141/141 [==============================] - 103s 729ms/step - loss: 0.2850 - acc: 0.8976 - f1_m: 0.8978 - precision_m: 0.9203 - recall_m: 0.8768\n",
            "Epoch 24/30\n",
            "141/141 [==============================] - 100s 709ms/step - loss: 0.2640 - acc: 0.9065 - f1_m: 0.9066 - precision_m: 0.9252 - recall_m: 0.8890\n",
            "Epoch 25/30\n",
            "141/141 [==============================] - 100s 710ms/step - loss: 0.2477 - acc: 0.9113 - f1_m: 0.9125 - precision_m: 0.9310 - recall_m: 0.8951\n",
            "Epoch 26/30\n",
            "141/141 [==============================] - 103s 731ms/step - loss: 0.2531 - acc: 0.9091 - f1_m: 0.9087 - precision_m: 0.9259 - recall_m: 0.8924\n",
            "Epoch 27/30\n",
            "141/141 [==============================] - 101s 717ms/step - loss: 0.2292 - acc: 0.9170 - f1_m: 0.9161 - precision_m: 0.9325 - recall_m: 0.9007\n",
            "Epoch 28/30\n",
            "141/141 [==============================] - 101s 714ms/step - loss: 0.2312 - acc: 0.9188 - f1_m: 0.9186 - precision_m: 0.9344 - recall_m: 0.9036\n",
            "Epoch 29/30\n",
            "141/141 [==============================] - 103s 733ms/step - loss: 0.2105 - acc: 0.9265 - f1_m: 0.9268 - precision_m: 0.9408 - recall_m: 0.9134\n",
            "Epoch 30/30\n",
            "141/141 [==============================] - 104s 739ms/step - loss: 0.2058 - acc: 0.9261 - f1_m: 0.9286 - precision_m: 0.9430 - recall_m: 0.9149\n"
          ],
          "name": "stdout"
        }
      ]
    },
    {
      "cell_type": "code",
      "metadata": {
        "id": "IWBx5u0sf9-s",
        "colab_type": "code",
        "colab": {
          "base_uri": "https://localhost:8080/",
          "height": 35
        },
        "outputId": "f723162a-07d0-440f-ef6c-f06b7b382611"
      },
      "source": [
        "loss, accuracy, f1_score, precision, recall = model.evaluate(X_test, y_test, verbose=0)\n",
        "print(\"Test: accuracy = %f  ;  loss = %f ; f1 score = %f ; precision = %f ; recall = %f \" % (accuracy, loss, f1_score, precision, recall))"
      ],
      "execution_count": 25,
      "outputs": [
        {
          "output_type": "stream",
          "text": [
            "Test: accuracy = 0.813373  ;  loss = 0.677678 ; f1 score = 0.817414 ; precision = 0.832308 ; recall = 0.803393 \n"
          ],
          "name": "stdout"
        }
      ]
    },
    {
      "cell_type": "code",
      "metadata": {
        "id": "Cnwt2BtWxd_A",
        "colab_type": "code",
        "colab": {}
      },
      "source": [
        "model.save(\"VGG16.h5\")"
      ],
      "execution_count": 0,
      "outputs": []
    }
  ]
}