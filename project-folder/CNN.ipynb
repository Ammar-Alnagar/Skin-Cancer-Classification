{
 "cells": [
  {
   "cell_type": "code",
   "execution_count": 121,
   "metadata": {},
   "outputs": [],
   "source": [
    "import os\n",
    "import zipfile\n",
    "import pandas as pd\n",
    "import numpy as np\n",
    "import kaggle\n",
    "import matplotlib.pyplot as plt\n",
    "import cv2 \n",
    "\n",
    "\n",
    "from glob import glob\n",
    "from keras.datasets import mnist\n",
    "from keras.utils.np_utils import to_categorical\n",
    "from keras.callbacks import EarlyStopping\n",
    "from keras.callbacks import ReduceLROnPlateau\n",
    "from keras.models import Sequential\n",
    "from keras.layers import Dense, Dropout, Flatten\n",
    "from keras.layers import Conv2D, MaxPooling2D\n",
    "from sklearn.model_selection import train_test_split\n",
    "from typing import Optional\n",
    "from kaggle.api.kaggle_api_extended import KaggleApi\n",
    "from PIL import Image"
   ]
  },
  {
   "cell_type": "code",
   "execution_count": 2,
   "metadata": {},
   "outputs": [
    {
     "name": "stdout",
     "output_type": "stream",
     "text": [
      "/mnt/c/Users/akaas/Documents/SM_project/project-folder/data\n"
     ]
    }
   ],
   "source": [
    "data_path = os.path.join(os.getcwd(), 'data')\n",
    "\n",
    "print(data_path)\n",
    "\n",
    "kaggle.api.authenticate()\n",
    "kaggle.api.dataset_download_files('kmader/skin-cancer-mnist-ham10000', path=data_path, unzip = True)"
   ]
  },
  {
   "cell_type": "code",
   "execution_count": 122,
   "metadata": {},
   "outputs": [],
   "source": [
    "data = pd.read_csv('data/hmnist_28_28_RGB.csv')"
   ]
  },
  {
   "cell_type": "code",
   "execution_count": 123,
   "metadata": {},
   "outputs": [
    {
     "data": {
      "text/html": [
       "<div>\n",
       "<style scoped>\n",
       "    .dataframe tbody tr th:only-of-type {\n",
       "        vertical-align: middle;\n",
       "    }\n",
       "\n",
       "    .dataframe tbody tr th {\n",
       "        vertical-align: top;\n",
       "    }\n",
       "\n",
       "    .dataframe thead th {\n",
       "        text-align: right;\n",
       "    }\n",
       "</style>\n",
       "<table border=\"1\" class=\"dataframe\">\n",
       "  <thead>\n",
       "    <tr style=\"text-align: right;\">\n",
       "      <th></th>\n",
       "      <th>pixel0000</th>\n",
       "      <th>pixel0001</th>\n",
       "      <th>pixel0002</th>\n",
       "      <th>pixel0003</th>\n",
       "      <th>pixel0004</th>\n",
       "      <th>pixel0005</th>\n",
       "      <th>pixel0006</th>\n",
       "      <th>pixel0007</th>\n",
       "      <th>pixel0008</th>\n",
       "      <th>pixel0009</th>\n",
       "      <th>...</th>\n",
       "      <th>pixel2343</th>\n",
       "      <th>pixel2344</th>\n",
       "      <th>pixel2345</th>\n",
       "      <th>pixel2346</th>\n",
       "      <th>pixel2347</th>\n",
       "      <th>pixel2348</th>\n",
       "      <th>pixel2349</th>\n",
       "      <th>pixel2350</th>\n",
       "      <th>pixel2351</th>\n",
       "      <th>label</th>\n",
       "    </tr>\n",
       "  </thead>\n",
       "  <tbody>\n",
       "    <tr>\n",
       "      <th>0</th>\n",
       "      <td>192</td>\n",
       "      <td>153</td>\n",
       "      <td>193</td>\n",
       "      <td>195</td>\n",
       "      <td>155</td>\n",
       "      <td>192</td>\n",
       "      <td>197</td>\n",
       "      <td>154</td>\n",
       "      <td>185</td>\n",
       "      <td>202</td>\n",
       "      <td>...</td>\n",
       "      <td>173</td>\n",
       "      <td>124</td>\n",
       "      <td>138</td>\n",
       "      <td>183</td>\n",
       "      <td>147</td>\n",
       "      <td>166</td>\n",
       "      <td>185</td>\n",
       "      <td>154</td>\n",
       "      <td>177</td>\n",
       "      <td>2</td>\n",
       "    </tr>\n",
       "    <tr>\n",
       "      <th>1</th>\n",
       "      <td>25</td>\n",
       "      <td>14</td>\n",
       "      <td>30</td>\n",
       "      <td>68</td>\n",
       "      <td>48</td>\n",
       "      <td>75</td>\n",
       "      <td>123</td>\n",
       "      <td>93</td>\n",
       "      <td>126</td>\n",
       "      <td>158</td>\n",
       "      <td>...</td>\n",
       "      <td>60</td>\n",
       "      <td>39</td>\n",
       "      <td>55</td>\n",
       "      <td>25</td>\n",
       "      <td>14</td>\n",
       "      <td>28</td>\n",
       "      <td>25</td>\n",
       "      <td>14</td>\n",
       "      <td>27</td>\n",
       "      <td>2</td>\n",
       "    </tr>\n",
       "    <tr>\n",
       "      <th>2</th>\n",
       "      <td>192</td>\n",
       "      <td>138</td>\n",
       "      <td>153</td>\n",
       "      <td>200</td>\n",
       "      <td>145</td>\n",
       "      <td>163</td>\n",
       "      <td>201</td>\n",
       "      <td>142</td>\n",
       "      <td>160</td>\n",
       "      <td>206</td>\n",
       "      <td>...</td>\n",
       "      <td>167</td>\n",
       "      <td>129</td>\n",
       "      <td>143</td>\n",
       "      <td>159</td>\n",
       "      <td>124</td>\n",
       "      <td>142</td>\n",
       "      <td>136</td>\n",
       "      <td>104</td>\n",
       "      <td>117</td>\n",
       "      <td>2</td>\n",
       "    </tr>\n",
       "    <tr>\n",
       "      <th>3</th>\n",
       "      <td>38</td>\n",
       "      <td>19</td>\n",
       "      <td>30</td>\n",
       "      <td>95</td>\n",
       "      <td>59</td>\n",
       "      <td>72</td>\n",
       "      <td>143</td>\n",
       "      <td>103</td>\n",
       "      <td>119</td>\n",
       "      <td>171</td>\n",
       "      <td>...</td>\n",
       "      <td>44</td>\n",
       "      <td>26</td>\n",
       "      <td>36</td>\n",
       "      <td>25</td>\n",
       "      <td>12</td>\n",
       "      <td>17</td>\n",
       "      <td>25</td>\n",
       "      <td>12</td>\n",
       "      <td>15</td>\n",
       "      <td>2</td>\n",
       "    </tr>\n",
       "    <tr>\n",
       "      <th>4</th>\n",
       "      <td>158</td>\n",
       "      <td>113</td>\n",
       "      <td>139</td>\n",
       "      <td>194</td>\n",
       "      <td>144</td>\n",
       "      <td>174</td>\n",
       "      <td>215</td>\n",
       "      <td>162</td>\n",
       "      <td>191</td>\n",
       "      <td>225</td>\n",
       "      <td>...</td>\n",
       "      <td>209</td>\n",
       "      <td>166</td>\n",
       "      <td>185</td>\n",
       "      <td>172</td>\n",
       "      <td>135</td>\n",
       "      <td>149</td>\n",
       "      <td>109</td>\n",
       "      <td>78</td>\n",
       "      <td>92</td>\n",
       "      <td>2</td>\n",
       "    </tr>\n",
       "  </tbody>\n",
       "</table>\n",
       "<p>5 rows × 2353 columns</p>\n",
       "</div>"
      ],
      "text/plain": [
       "   pixel0000  pixel0001  pixel0002  pixel0003  pixel0004  pixel0005  \\\n",
       "0        192        153        193        195        155        192   \n",
       "1         25         14         30         68         48         75   \n",
       "2        192        138        153        200        145        163   \n",
       "3         38         19         30         95         59         72   \n",
       "4        158        113        139        194        144        174   \n",
       "\n",
       "   pixel0006  pixel0007  pixel0008  pixel0009  ...    pixel2343  pixel2344  \\\n",
       "0        197        154        185        202  ...          173        124   \n",
       "1        123         93        126        158  ...           60         39   \n",
       "2        201        142        160        206  ...          167        129   \n",
       "3        143        103        119        171  ...           44         26   \n",
       "4        215        162        191        225  ...          209        166   \n",
       "\n",
       "   pixel2345  pixel2346  pixel2347  pixel2348  pixel2349  pixel2350  \\\n",
       "0        138        183        147        166        185        154   \n",
       "1         55         25         14         28         25         14   \n",
       "2        143        159        124        142        136        104   \n",
       "3         36         25         12         17         25         12   \n",
       "4        185        172        135        149        109         78   \n",
       "\n",
       "   pixel2351  label  \n",
       "0        177      2  \n",
       "1         27      2  \n",
       "2        117      2  \n",
       "3         15      2  \n",
       "4         92      2  \n",
       "\n",
       "[5 rows x 2353 columns]"
      ]
     },
     "execution_count": 123,
     "metadata": {},
     "output_type": "execute_result"
    }
   ],
   "source": [
    "data.head()"
   ]
  },
  {
   "cell_type": "markdown",
   "metadata": {},
   "source": [
    "**Understanding the data**\n",
    "\n",
    "The dataset includes 10015 images that are 28 x 28 pixels = 784 pixels As they are RGB images and not gray scale they must be multipled by 3 (R, G, B). In total, there are 2352 pixels."
   ]
  },
  {
   "cell_type": "code",
   "execution_count": 124,
   "metadata": {},
   "outputs": [],
   "source": [
    "X = data.drop(columns='label')/255\n",
    "Y = data['label']\n",
    "\n",
    "num_rows, num_cols = 28, 28\n",
    "num_classes = len(set(Y))"
   ]
  },
  {
   "cell_type": "code",
   "execution_count": 125,
   "metadata": {},
   "outputs": [],
   "source": [
    "X = np.array(X)\n",
    "X = X.reshape(X.shape[0], num_rows, num_cols, 3)"
   ]
  },
  {
   "cell_type": "code",
   "execution_count": 126,
   "metadata": {},
   "outputs": [],
   "source": [
    "Y = np.eye(num_classes)[np.array(Y.astype(int)).reshape(-1)]"
   ]
  },
  {
   "cell_type": "code",
   "execution_count": 127,
   "metadata": {},
   "outputs": [],
   "source": [
    "X_train, X_test, y_train, y_test = train_test_split(X, Y, test_size=0.20, random_state=42)\n",
    "#Split the dataset into 80% training and 20% test"
   ]
  },
  {
   "cell_type": "code",
   "execution_count": 128,
   "metadata": {},
   "outputs": [
    {
     "data": {
      "text/plain": [
       "<matplotlib.image.AxesImage at 0x7f80b91a0860>"
      ]
     },
     "execution_count": 128,
     "metadata": {},
     "output_type": "execute_result"
    },
    {
     "data": {
      "image/png": "[encoded data removed]",
      "text/plain": [
       "<matplotlib.figure.Figure at 0x7f80b90efb38>"
      ]
     },
     "metadata": {
      "needs_background": "light"
     },
     "output_type": "display_data"
    }
   ],
   "source": [
    "plt.imshow(X_train[0].reshape(28,28,3))"
   ]
  },
  {
   "cell_type": "code",
   "execution_count": 129,
   "metadata": {},
   "outputs": [
    {
     "data": {
      "text/plain": [
       "<matplotlib.image.AxesImage at 0x7f80b8b56cf8>"
      ]
     },
     "execution_count": 129,
     "metadata": {},
     "output_type": "execute_result"
    },
    {
     "data": {
      "image/png": "[encoded data removed]",
      "text/plain": [
       "<matplotlib.figure.Figure at 0x7f80b8f91da0>"
      ]
     },
     "metadata": {
      "needs_background": "light"
     },
     "output_type": "display_data"
    }
   ],
   "source": [
    "plt.imshow(X_test[0].reshape(28,28,3))"
   ]
  },
  {
   "cell_type": "code",
   "execution_count": 130,
   "metadata": {},
   "outputs": [],
   "source": [
    "model = Sequential()\n",
    "model.add(Conv2D(32, kernel_size=(3, 3), activation='relu', input_shape=(num_rows, num_cols, 3)))\n",
    "model.add(MaxPooling2D((2, 2)))\n",
    "model.add(Dropout(0.1))\n",
    "model.add(Conv2D(64, (3, 3), activation='relu'))\n",
    "model.add(Dropout(0.3))\n",
    "model.add(Flatten())\n",
    "model.add(Dense(128, activation='relu'))\n",
    "model.add(Dropout(0.5))\n",
    "model.add(Dense(num_classes, activation='softmax'))\n",
    "\n",
    "model.compile(loss='categorical_crossentropy',\n",
    "              optimizer='adam',\n",
    "              metrics=['accuracy'])"
   ]
  },
  {
   "cell_type": "code",
   "execution_count": 131,
   "metadata": {},
   "outputs": [
    {
     "name": "stdout",
     "output_type": "stream",
     "text": [
      "Model: \"sequential_13\"\n",
      "_________________________________________________________________\n",
      "Layer (type)                 Output Shape              Param #   \n",
      "=================================================================\n",
      "conv2d_33 (Conv2D)           (None, 26, 26, 32)        896       \n",
      "_________________________________________________________________\n",
      "max_pooling2d_15 (MaxPooling (None, 13, 13, 32)        0         \n",
      "_________________________________________________________________\n",
      "dropout_31 (Dropout)         (None, 13, 13, 32)        0         \n",
      "_________________________________________________________________\n",
      "conv2d_34 (Conv2D)           (None, 11, 11, 64)        18496     \n",
      "_________________________________________________________________\n",
      "dropout_32 (Dropout)         (None, 11, 11, 64)        0         \n",
      "_________________________________________________________________\n",
      "flatten_11 (Flatten)         (None, 7744)              0         \n",
      "_________________________________________________________________\n",
      "dense_21 (Dense)             (None, 128)               991360    \n",
      "_________________________________________________________________\n",
      "dropout_33 (Dropout)         (None, 128)               0         \n",
      "_________________________________________________________________\n",
      "dense_22 (Dense)             (None, 7)                 903       \n",
      "=================================================================\n",
      "Total params: 1,011,655\n",
      "Trainable params: 1,011,655\n",
      "Non-trainable params: 0\n",
      "_________________________________________________________________\n"
     ]
    }
   ],
   "source": [
    "model.summary()"
   ]
  },
  {
   "cell_type": "markdown",
   "metadata": {},
   "source": [
    "**Changes to the model**\n",
    "Early stopping\n",
    "Changing the drop %\n",
    "Including a train, test split (+ validation split within training)"
   ]
  },
  {
   "cell_type": "code",
   "execution_count": 132,
   "metadata": {},
   "outputs": [],
   "source": [
    "early_stopping = EarlyStopping(monitor='val_loss', patience=2)"
   ]
  },
  {
   "cell_type": "code",
   "execution_count": 133,
   "metadata": {
    "scrolled": true
   },
   "outputs": [
    {
     "name": "stdout",
     "output_type": "stream",
     "text": [
      "Train on 7210 samples, validate on 802 samples\n",
      "Epoch 1/30\n",
      "7210/7210 [==============================] - 6s 882us/step - loss: 1.0702 - accuracy: 0.6637 - val_loss: 0.8970 - val_accuracy: 0.6958\n",
      "Epoch 2/30\n",
      "7210/7210 [==============================] - 6s 782us/step - loss: 0.9476 - accuracy: 0.6675 - val_loss: 0.8689 - val_accuracy: 0.6958\n",
      "Epoch 3/30\n",
      "7210/7210 [==============================] - 6s 821us/step - loss: 0.9041 - accuracy: 0.6739 - val_loss: 0.7896 - val_accuracy: 0.7007\n",
      "Epoch 4/30\n",
      "7210/7210 [==============================] - 6s 772us/step - loss: 0.8648 - accuracy: 0.6807 - val_loss: 0.7654 - val_accuracy: 0.7107\n",
      "Epoch 5/30\n",
      "7210/7210 [==============================] - 5s 758us/step - loss: 0.8424 - accuracy: 0.6875 - val_loss: 0.7288 - val_accuracy: 0.7307\n",
      "Epoch 6/30\n",
      "7210/7210 [==============================] - 5s 727us/step - loss: 0.8137 - accuracy: 0.6945 - val_loss: 0.7334 - val_accuracy: 0.7294\n",
      "Epoch 7/30\n",
      "7210/7210 [==============================] - 5s 713us/step - loss: 0.8099 - accuracy: 0.6922 - val_loss: 0.7338 - val_accuracy: 0.7232\n"
     ]
    },
    {
     "data": {
      "text/plain": [
       "<keras.callbacks.callbacks.History at 0x7f80acacef28>"
      ]
     },
     "execution_count": 133,
     "metadata": {},
     "output_type": "execute_result"
    }
   ],
   "source": [
    "model.fit(X_train, y_train, batch_size=32, epochs=30, validation_split=0.10, callbacks=[early_stopping])\n",
    "#10% drop 30% drop 50% drop"
   ]
  },
  {
   "cell_type": "code",
   "execution_count": 135,
   "metadata": {},
   "outputs": [
    {
     "name": "stdout",
     "output_type": "stream",
     "text": [
      "2003/2003 [==============================] - 0s 163us/step\n",
      "Test: accuracy = 0.702446  ;  loss = 0.788722\n"
     ]
    }
   ],
   "source": [
    "loss, accuracy = model.evaluate(X_test, y_test, verbose=1)\n",
    "print(\"Test: accuracy = %f  ;  loss = %f\" % (accuracy, loss))"
   ]
  },
  {
   "cell_type": "code",
   "execution_count": 138,
   "metadata": {},
   "outputs": [
    {
     "name": "stdout",
     "output_type": "stream",
     "text": [
      "Model: \"sequential_16\"\n",
      "_________________________________________________________________\n",
      "Layer (type)                 Output Shape              Param #   \n",
      "=================================================================\n",
      "conv2d_39 (Conv2D)           (None, 26, 26, 32)        896       \n",
      "_________________________________________________________________\n",
      "max_pooling2d_18 (MaxPooling (None, 13, 13, 32)        0         \n",
      "_________________________________________________________________\n",
      "dropout_40 (Dropout)         (None, 13, 13, 32)        0         \n",
      "_________________________________________________________________\n",
      "conv2d_40 (Conv2D)           (None, 11, 11, 64)        18496     \n",
      "_________________________________________________________________\n",
      "dropout_41 (Dropout)         (None, 11, 11, 64)        0         \n",
      "_________________________________________________________________\n",
      "flatten_14 (Flatten)         (None, 7744)              0         \n",
      "_________________________________________________________________\n",
      "dense_27 (Dense)             (None, 128)               991360    \n",
      "_________________________________________________________________\n",
      "dropout_42 (Dropout)         (None, 128)               0         \n",
      "_________________________________________________________________\n",
      "dense_28 (Dense)             (None, 7)                 903       \n",
      "=================================================================\n",
      "Total params: 1,011,655\n",
      "Trainable params: 1,011,655\n",
      "Non-trainable params: 0\n",
      "_________________________________________________________________\n"
     ]
    }
   ],
   "source": [
    "model = Sequential()\n",
    "model.add(Conv2D(32, kernel_size=(3, 3), activation='relu', input_shape=(num_rows, num_cols, 3)))\n",
    "model.add(MaxPooling2D((2, 2)))\n",
    "model.add(Dropout(0.1))\n",
    "model.add(Conv2D(64, (3, 3), activation='relu'))\n",
    "model.add(Dropout(0.5))\n",
    "model.add(Flatten())\n",
    "model.add(Dense(128, activation='relu'))\n",
    "model.add(Dropout(0.5))\n",
    "model.add(Dense(num_classes, activation='softmax'))\n",
    "\n",
    "model.compile(loss='categorical_crossentropy',\n",
    "              optimizer='adam',\n",
    "              metrics=['accuracy'])\n",
    "model.summary()"
   ]
  },
  {
   "cell_type": "code",
   "execution_count": 139,
   "metadata": {},
   "outputs": [
    {
     "name": "stdout",
     "output_type": "stream",
     "text": [
      "Train on 7210 samples, validate on 802 samples\n",
      "Epoch 1/30\n",
      "7210/7210 [==============================] - 5s 747us/step - loss: 1.0627 - accuracy: 0.6612 - val_loss: 0.9465 - val_accuracy: 0.6858\n",
      "Epoch 2/30\n",
      "7210/7210 [==============================] - 5s 714us/step - loss: 0.9613 - accuracy: 0.6702 - val_loss: 0.8181 - val_accuracy: 0.6995\n",
      "Epoch 3/30\n",
      "7210/7210 [==============================] - 5s 729us/step - loss: 0.9072 - accuracy: 0.6750 - val_loss: 0.8004 - val_accuracy: 0.7020\n",
      "Epoch 4/30\n",
      "7210/7210 [==============================] - 5s 719us/step - loss: 0.8827 - accuracy: 0.6857 - val_loss: 0.7794 - val_accuracy: 0.7107\n",
      "Epoch 5/30\n",
      "7210/7210 [==============================] - 5s 692us/step - loss: 0.8595 - accuracy: 0.6822 - val_loss: 0.7521 - val_accuracy: 0.7182\n",
      "Epoch 6/30\n",
      "7210/7210 [==============================] - 5s 707us/step - loss: 0.8377 - accuracy: 0.6915 - val_loss: 0.7294 - val_accuracy: 0.7357\n",
      "Epoch 7/30\n",
      "7210/7210 [==============================] - 5s 708us/step - loss: 0.8109 - accuracy: 0.6951 - val_loss: 0.7335 - val_accuracy: 0.7269\n",
      "Epoch 8/30\n",
      "7210/7210 [==============================] - 5s 733us/step - loss: 0.7851 - accuracy: 0.7093 - val_loss: 0.6980 - val_accuracy: 0.7456\n",
      "Epoch 9/30\n",
      "7210/7210 [==============================] - 5s 722us/step - loss: 0.7762 - accuracy: 0.7111 - val_loss: 0.6801 - val_accuracy: 0.7444\n",
      "Epoch 10/30\n",
      "7210/7210 [==============================] - 5s 736us/step - loss: 0.7536 - accuracy: 0.7226 - val_loss: 0.7065 - val_accuracy: 0.7406\n",
      "Epoch 11/30\n",
      "7210/7210 [==============================] - 6s 773us/step - loss: 0.7419 - accuracy: 0.7255 - val_loss: 0.6688 - val_accuracy: 0.7382\n",
      "Epoch 12/30\n",
      "7210/7210 [==============================] - 6s 784us/step - loss: 0.7251 - accuracy: 0.7318 - val_loss: 0.8031 - val_accuracy: 0.7020\n",
      "Epoch 13/30\n",
      "7210/7210 [==============================] - 6s 822us/step - loss: 0.7286 - accuracy: 0.7257 - val_loss: 0.7067 - val_accuracy: 0.7382\n"
     ]
    },
    {
     "data": {
      "text/plain": [
       "<keras.callbacks.callbacks.History at 0x7f80aba73fd0>"
      ]
     },
     "execution_count": 139,
     "metadata": {},
     "output_type": "execute_result"
    }
   ],
   "source": [
    "model.fit(X_train, y_train, batch_size=32, epochs=30, validation_split=0.10, callbacks=[early_stopping])\n",
    "#10% drop 50% drop 50% drop"
   ]
  },
  {
   "cell_type": "code",
   "execution_count": 140,
   "metadata": {},
   "outputs": [
    {
     "name": "stdout",
     "output_type": "stream",
     "text": [
      "2003/2003 [==============================] - 0s 169us/step\n",
      "Test: accuracy = 0.713430  ;  loss = 0.744871\n"
     ]
    }
   ],
   "source": [
    "loss, accuracy = model.evaluate(X_test, y_test, verbose=1)\n",
    "print(\"Test: accuracy = %f  ;  loss = %f\" % (accuracy, loss))"
   ]
  },
  {
   "cell_type": "code",
   "execution_count": 141,
   "metadata": {},
   "outputs": [],
   "source": [
    "base_skin_dir = os.path.join('..', 'project-folder/data')\n",
    "imageid_path_dict = {os.path.splitext(os.path.basename(x))[0]: x\n",
    "                     for x in glob(os.path.join(base_skin_dir, '*', '*.jpg'))}\n",
    "\n",
    "lesion_type_dict = {\n",
    "    'nv': 'Melanocytic nevi',\n",
    "    'mel': 'Melanoma',\n",
    "    'bkl': 'Benign keratosis-like lesions ',\n",
    "    'bcc': 'Basal cell carcinoma',\n",
    "    'akiec': 'Actinic keratoses',\n",
    "    'vasc': 'Vascular lesions',\n",
    "    'df': 'Dermatofibroma'\n",
    "}"
   ]
  },
  {
   "cell_type": "code",
   "execution_count": 142,
   "metadata": {},
   "outputs": [
    {
     "data": {
      "text/html": [
       "<div>\n",
       "<style scoped>\n",
       "    .dataframe tbody tr th:only-of-type {\n",
       "        vertical-align: middle;\n",
       "    }\n",
       "\n",
       "    .dataframe tbody tr th {\n",
       "        vertical-align: top;\n",
       "    }\n",
       "\n",
       "    .dataframe thead th {\n",
       "        text-align: right;\n",
       "    }\n",
       "</style>\n",
       "<table border=\"1\" class=\"dataframe\">\n",
       "  <thead>\n",
       "    <tr style=\"text-align: right;\">\n",
       "      <th></th>\n",
       "      <th>lesion_id</th>\n",
       "      <th>image_id</th>\n",
       "      <th>dx</th>\n",
       "      <th>dx_type</th>\n",
       "      <th>age</th>\n",
       "      <th>sex</th>\n",
       "      <th>localization</th>\n",
       "      <th>path</th>\n",
       "      <th>cell_type</th>\n",
       "      <th>cell_type_idx</th>\n",
       "    </tr>\n",
       "  </thead>\n",
       "  <tbody>\n",
       "    <tr>\n",
       "      <th>5922</th>\n",
       "      <td>HAM_0004509</td>\n",
       "      <td>ISIC_0028028</td>\n",
       "      <td>nv</td>\n",
       "      <td>follow_up</td>\n",
       "      <td>45.0</td>\n",
       "      <td>male</td>\n",
       "      <td>trunk</td>\n",
       "      <td>../project-folder/data/HAM10000_images_part_1/...</td>\n",
       "      <td>Melanocytic nevi</td>\n",
       "      <td>4</td>\n",
       "    </tr>\n",
       "    <tr>\n",
       "      <th>3028</th>\n",
       "      <td>HAM_0007193</td>\n",
       "      <td>ISIC_0025398</td>\n",
       "      <td>nv</td>\n",
       "      <td>follow_up</td>\n",
       "      <td>45.0</td>\n",
       "      <td>male</td>\n",
       "      <td>trunk</td>\n",
       "      <td>../project-folder/data/HAM10000_images_part_1/...</td>\n",
       "      <td>Melanocytic nevi</td>\n",
       "      <td>4</td>\n",
       "    </tr>\n",
       "    <tr>\n",
       "      <th>5837</th>\n",
       "      <td>HAM_0002573</td>\n",
       "      <td>ISIC_0030018</td>\n",
       "      <td>nv</td>\n",
       "      <td>follow_up</td>\n",
       "      <td>45.0</td>\n",
       "      <td>male</td>\n",
       "      <td>lower extremity</td>\n",
       "      <td>../project-folder/data/HAM10000_images_part_2/...</td>\n",
       "      <td>Melanocytic nevi</td>\n",
       "      <td>4</td>\n",
       "    </tr>\n",
       "  </tbody>\n",
       "</table>\n",
       "</div>"
      ],
      "text/plain": [
       "        lesion_id      image_id  dx    dx_type   age   sex     localization  \\\n",
       "5922  HAM_0004509  ISIC_0028028  nv  follow_up  45.0  male            trunk   \n",
       "3028  HAM_0007193  ISIC_0025398  nv  follow_up  45.0  male            trunk   \n",
       "5837  HAM_0002573  ISIC_0030018  nv  follow_up  45.0  male  lower extremity   \n",
       "\n",
       "                                                   path         cell_type  \\\n",
       "5922  ../project-folder/data/HAM10000_images_part_1/...  Melanocytic nevi   \n",
       "3028  ../project-folder/data/HAM10000_images_part_1/...  Melanocytic nevi   \n",
       "5837  ../project-folder/data/HAM10000_images_part_2/...  Melanocytic nevi   \n",
       "\n",
       "      cell_type_idx  \n",
       "5922              4  \n",
       "3028              4  \n",
       "5837              4  "
      ]
     },
     "execution_count": 142,
     "metadata": {},
     "output_type": "execute_result"
    }
   ],
   "source": [
    "skin_data = pd.read_csv(os.path.join(base_skin_dir, 'HAM10000_metadata.csv'))\n",
    "skin_data['path'] = skin_data['image_id'].map(imageid_path_dict.get)\n",
    "skin_data['cell_type'] = skin_data['dx'].map(lesion_type_dict.get) \n",
    "skin_data['cell_type_idx'] = pd.Categorical(skin_data['cell_type']).codes\n",
    "skin_data.sample(3)\n",
    "#Match the images from the folders and include them in the csv file"
   ]
  },
  {
   "cell_type": "code",
   "execution_count": 143,
   "metadata": {},
   "outputs": [
    {
     "data": {
      "text/plain": [
       "lesion_id         0\n",
       "image_id          0\n",
       "dx                0\n",
       "dx_type           0\n",
       "age              57\n",
       "sex               0\n",
       "localization      0\n",
       "path              0\n",
       "cell_type         0\n",
       "cell_type_idx     0\n",
       "dtype: int64"
      ]
     },
     "execution_count": 143,
     "metadata": {},
     "output_type": "execute_result"
    }
   ],
   "source": [
    "skin_data.isnull().sum()"
   ]
  },
  {
   "cell_type": "code",
   "execution_count": 144,
   "metadata": {},
   "outputs": [],
   "source": [
    "skin_data['age'].fillna((skin_data['age'].mean()), inplace=True)\n",
    "#Replace null age with mean age"
   ]
  },
  {
   "cell_type": "code",
   "execution_count": 145,
   "metadata": {},
   "outputs": [],
   "source": [
    "skin_data['image'] = skin_data['path'].map(lambda x: np.asarray(Image.open(x).resize((37,28))))\n",
    "#Based on the aspect ration 37 x 28 is clearer than 28 x 28 so testing if this improves accuracy"
   ]
  },
  {
   "cell_type": "code",
   "execution_count": 147,
   "metadata": {},
   "outputs": [
    {
     "data": {
      "image/png": "[encoded data removed]",
      "text/plain": [
       "<matplotlib.figure.Figure at 0x7f80ab07da20>"
      ]
     },
     "metadata": {
      "needs_background": "light"
     },
     "output_type": "display_data"
    }
   ],
   "source": [
    "n_samples = 4\n",
    "fig, m_axs = plt.subplots(7, n_samples, figsize = (4*n_samples, 3*7))\n",
    "for n_axs, (type_name, type_rows) in zip(m_axs, \n",
    "                                         skin_data.sort_values(['cell_type']).groupby('cell_type')):\n",
    "    n_axs[0].set_title(type_name)\n",
    "    for c_ax, (_, c_row) in zip(n_axs, type_rows.sample(n_samples, random_state=6542).iterrows()):\n",
    "        c_ax.imshow(c_row['image'])\n",
    "        c_ax.axis('off')\n",
    "fig.savefig('category_samples.png', dpi=300)"
   ]
  },
  {
   "cell_type": "code",
   "execution_count": 148,
   "metadata": {},
   "outputs": [
    {
     "data": {
      "text/plain": [
       "(28, 37, 3)    10015\n",
       "Name: image, dtype: int64"
      ]
     },
     "execution_count": 148,
     "metadata": {},
     "output_type": "execute_result"
    }
   ],
   "source": [
    "# Checking the image size distribution\n",
    "skin_data['image'].map(lambda x: x.shape).value_counts()\n",
    "#Selected 28 x 37 to keep the aspect ratio and see if there is an improvement"
   ]
  },
  {
   "cell_type": "code",
   "execution_count": 149,
   "metadata": {},
   "outputs": [],
   "source": [
    "features = skin_data.drop(columns=['cell_type_idx'],axis=1)\n",
    "label = skin_data['cell_type_idx']\n",
    "\n",
    "x_train, x_test, y_train, y_test = train_test_split(features, label, test_size=0.20,random_state=6542)"
   ]
  },
  {
   "cell_type": "code",
   "execution_count": 150,
   "metadata": {},
   "outputs": [],
   "source": [
    "x_train = np.asarray(x_train['image'].tolist())"
   ]
  },
  {
   "cell_type": "code",
   "execution_count": 151,
   "metadata": {},
   "outputs": [],
   "source": [
    "x_train_mean = np.mean(x_train)\n",
    "x_train_std = np.std(x_train)"
   ]
  },
  {
   "cell_type": "code",
   "execution_count": 152,
   "metadata": {},
   "outputs": [],
   "source": [
    "x_test = np.asarray(x_test['image'].tolist())"
   ]
  },
  {
   "cell_type": "code",
   "execution_count": 153,
   "metadata": {},
   "outputs": [],
   "source": [
    "x_test_mean = np.mean(x_test)\n",
    "x_test_std = np.std(x_test)"
   ]
  },
  {
   "cell_type": "code",
   "execution_count": 154,
   "metadata": {},
   "outputs": [],
   "source": [
    "x_train = (x_train - x_train_mean)/x_train_std\n",
    "x_test = (x_test - x_test_mean)/x_test_std\n",
    "#New approach to normalizing"
   ]
  },
  {
   "cell_type": "code",
   "execution_count": 155,
   "metadata": {},
   "outputs": [],
   "source": [
    "y_train = to_categorical(y_train, num_classes = 7)\n",
    "y_test = to_categorical(y_test, num_classes = 7)"
   ]
  },
  {
   "cell_type": "code",
   "execution_count": 156,
   "metadata": {},
   "outputs": [
    {
     "name": "stdout",
     "output_type": "stream",
     "text": [
      "Model: \"sequential_17\"\n",
      "_________________________________________________________________\n",
      "Layer (type)                 Output Shape              Param #   \n",
      "=================================================================\n",
      "conv2d_41 (Conv2D)           (None, 28, 37, 32)        896       \n",
      "_________________________________________________________________\n",
      "conv2d_42 (Conv2D)           (None, 28, 37, 32)        9248      \n",
      "_________________________________________________________________\n",
      "max_pooling2d_19 (MaxPooling (None, 14, 18, 32)        0         \n",
      "_________________________________________________________________\n",
      "dropout_43 (Dropout)         (None, 14, 18, 32)        0         \n",
      "_________________________________________________________________\n",
      "conv2d_43 (Conv2D)           (None, 14, 18, 64)        18496     \n",
      "_________________________________________________________________\n",
      "conv2d_44 (Conv2D)           (None, 14, 18, 64)        36928     \n",
      "_________________________________________________________________\n",
      "max_pooling2d_20 (MaxPooling (None, 7, 9, 64)          0         \n",
      "_________________________________________________________________\n",
      "dropout_44 (Dropout)         (None, 7, 9, 64)          0         \n",
      "_________________________________________________________________\n",
      "flatten_15 (Flatten)         (None, 4032)              0         \n",
      "_________________________________________________________________\n",
      "dense_29 (Dense)             (None, 128)               516224    \n",
      "_________________________________________________________________\n",
      "dropout_45 (Dropout)         (None, 128)               0         \n",
      "_________________________________________________________________\n",
      "dense_30 (Dense)             (None, 7)                 903       \n",
      "=================================================================\n",
      "Total params: 582,695\n",
      "Trainable params: 582,695\n",
      "Non-trainable params: 0\n",
      "_________________________________________________________________\n"
     ]
    }
   ],
   "source": [
    "input_shape = (28, 37, 3)\n",
    "num_classes = 7\n",
    "\n",
    "model = Sequential()\n",
    "model.add(Conv2D(32, kernel_size=(3, 3),activation='relu',padding = 'Same',input_shape=input_shape))\n",
    "model.add(Conv2D(32,kernel_size=(3, 3), activation='relu',padding = 'Same',))\n",
    "model.add(MaxPooling2D(pool_size = (2, 2)))\n",
    "model.add(Dropout(0.25))\n",
    "\n",
    "model.add(Conv2D(64, (3, 3), activation='relu',padding = 'Same'))\n",
    "model.add(Conv2D(64, (3, 3), activation='relu',padding = 'Same'))\n",
    "model.add(MaxPooling2D(pool_size=(2, 2)))\n",
    "model.add(Dropout(0.40))\n",
    "\n",
    "model.add(Flatten())\n",
    "model.add(Dense(128, activation='relu'))\n",
    "model.add(Dropout(0.5))\n",
    "model.add(Dense(num_classes, activation='softmax'))\n",
    "model.summary()"
   ]
  },
  {
   "cell_type": "code",
   "execution_count": 157,
   "metadata": {},
   "outputs": [],
   "source": [
    "model.compile(loss='categorical_crossentropy',\n",
    "              optimizer='adam',\n",
    "              metrics=['accuracy'])"
   ]
  },
  {
   "cell_type": "code",
   "execution_count": 158,
   "metadata": {},
   "outputs": [],
   "source": [
    "learning_rate_reduction = ReduceLROnPlateau(monitor='val_accuracy', \n",
    "                                            patience=3, \n",
    "                                            verbose=1, \n",
    "                                            factor=0.5, \n",
    "                                            min_lr=0.00001)"
   ]
  },
  {
   "cell_type": "code",
   "execution_count": 159,
   "metadata": {},
   "outputs": [
    {
     "name": "stdout",
     "output_type": "stream",
     "text": [
      "Train on 7210 samples, validate on 802 samples\n",
      "Epoch 1/30\n",
      "7210/7210 [==============================] - 20s 3ms/step - loss: 0.9847 - accuracy: 0.6641 - val_loss: 0.8721 - val_accuracy: 0.6683\n",
      "Epoch 2/30\n",
      "7210/7210 [==============================] - 18s 2ms/step - loss: 0.8620 - accuracy: 0.6809 - val_loss: 0.8549 - val_accuracy: 0.6883\n",
      "Epoch 3/30\n",
      "7210/7210 [==============================] - 17s 2ms/step - loss: 0.8290 - accuracy: 0.7003 - val_loss: 0.8880 - val_accuracy: 0.6808\n",
      "Epoch 4/30\n",
      "7210/7210 [==============================] - 17s 2ms/step - loss: 0.7980 - accuracy: 0.7101 - val_loss: 0.8148 - val_accuracy: 0.6970\n",
      "Epoch 5/30\n",
      "7210/7210 [==============================] - 17s 2ms/step - loss: 0.7657 - accuracy: 0.7186 - val_loss: 0.7882 - val_accuracy: 0.7107\n",
      "Epoch 6/30\n",
      "7210/7210 [==============================] - 18s 2ms/step - loss: 0.7469 - accuracy: 0.7309 - val_loss: 0.7700 - val_accuracy: 0.7244\n",
      "Epoch 7/30\n",
      "7210/7210 [==============================] - 19s 3ms/step - loss: 0.7238 - accuracy: 0.7361 - val_loss: 0.7823 - val_accuracy: 0.7219\n",
      "Epoch 8/30\n",
      "7210/7210 [==============================] - 19s 3ms/step - loss: 0.6869 - accuracy: 0.7498 - val_loss: 0.7739 - val_accuracy: 0.7182\n",
      "Epoch 9/30\n",
      "7210/7210 [==============================] - 19s 3ms/step - loss: 0.6845 - accuracy: 0.7520 - val_loss: 0.8061 - val_accuracy: 0.7269\n",
      "Epoch 10/30\n",
      "7210/7210 [==============================] - 19s 3ms/step - loss: 0.6539 - accuracy: 0.7613 - val_loss: 0.7433 - val_accuracy: 0.7382\n",
      "Epoch 11/30\n",
      "7210/7210 [==============================] - 20s 3ms/step - loss: 0.6311 - accuracy: 0.7652 - val_loss: 0.7675 - val_accuracy: 0.7394\n",
      "Epoch 12/30\n",
      "7210/7210 [==============================] - 20s 3ms/step - loss: 0.6095 - accuracy: 0.7727 - val_loss: 0.7396 - val_accuracy: 0.7456\n",
      "Epoch 13/30\n",
      "7210/7210 [==============================] - 18s 2ms/step - loss: 0.5872 - accuracy: 0.7798 - val_loss: 0.7773 - val_accuracy: 0.7357\n",
      "Epoch 14/30\n",
      "7210/7210 [==============================] - 19s 3ms/step - loss: 0.5702 - accuracy: 0.7860 - val_loss: 0.7558 - val_accuracy: 0.7494\n",
      "Epoch 15/30\n",
      "7210/7210 [==============================] - 19s 3ms/step - loss: 0.5626 - accuracy: 0.7888 - val_loss: 0.7653 - val_accuracy: 0.7506\n",
      "Epoch 16/30\n",
      "7210/7210 [==============================] - 19s 3ms/step - loss: 0.5406 - accuracy: 0.7983 - val_loss: 0.7787 - val_accuracy: 0.7344\n",
      "Epoch 17/30\n",
      "7210/7210 [==============================] - 19s 3ms/step - loss: 0.5262 - accuracy: 0.8029 - val_loss: 0.7916 - val_accuracy: 0.7481\n",
      "Epoch 18/30\n",
      "7210/7210 [==============================] - 19s 3ms/step - loss: 0.5065 - accuracy: 0.8125 - val_loss: 0.7789 - val_accuracy: 0.7406\n",
      "\n",
      "Epoch 00018: ReduceLROnPlateau reducing learning rate to 0.0005000000237487257.\n",
      "Epoch 19/30\n",
      "7210/7210 [==============================] - 19s 3ms/step - loss: 0.4479 - accuracy: 0.8294 - val_loss: 0.8107 - val_accuracy: 0.7481\n",
      "Epoch 20/30\n",
      "7210/7210 [==============================] - 20s 3ms/step - loss: 0.4246 - accuracy: 0.8366 - val_loss: 0.7899 - val_accuracy: 0.7519\n",
      "Epoch 21/30\n",
      "7210/7210 [==============================] - 20s 3ms/step - loss: 0.4057 - accuracy: 0.8419 - val_loss: 0.7957 - val_accuracy: 0.7606\n",
      "Epoch 22/30\n",
      "7210/7210 [==============================] - 20s 3ms/step - loss: 0.3888 - accuracy: 0.8510 - val_loss: 0.8131 - val_accuracy: 0.7469\n",
      "Epoch 23/30\n",
      "7210/7210 [==============================] - 20s 3ms/step - loss: 0.3933 - accuracy: 0.8498 - val_loss: 0.7875 - val_accuracy: 0.7431\n",
      "Epoch 24/30\n",
      "7210/7210 [==============================] - 21s 3ms/step - loss: 0.3596 - accuracy: 0.8626 - val_loss: 0.8672 - val_accuracy: 0.7469\n",
      "\n",
      "Epoch 00024: ReduceLROnPlateau reducing learning rate to 0.0002500000118743628.\n",
      "Epoch 25/30\n",
      "7210/7210 [==============================] - 20s 3ms/step - loss: 0.3415 - accuracy: 0.8692 - val_loss: 0.8307 - val_accuracy: 0.7444\n",
      "Epoch 26/30\n",
      "7210/7210 [==============================] - 20s 3ms/step - loss: 0.3264 - accuracy: 0.8736 - val_loss: 0.8647 - val_accuracy: 0.7494\n",
      "Epoch 27/30\n",
      "7210/7210 [==============================] - 20s 3ms/step - loss: 0.3165 - accuracy: 0.8756 - val_loss: 0.8863 - val_accuracy: 0.7494\n",
      "\n",
      "Epoch 00027: ReduceLROnPlateau reducing learning rate to 0.0001250000059371814.\n",
      "Epoch 28/30\n",
      "7210/7210 [==============================] - 21s 3ms/step - loss: 0.2992 - accuracy: 0.8853 - val_loss: 0.8826 - val_accuracy: 0.7506\n",
      "Epoch 29/30\n",
      "7210/7210 [==============================] - 20s 3ms/step - loss: 0.2907 - accuracy: 0.8859 - val_loss: 0.8767 - val_accuracy: 0.7581\n",
      "Epoch 30/30\n",
      "7210/7210 [==============================] - 21s 3ms/step - loss: 0.3005 - accuracy: 0.8768 - val_loss: 0.8655 - val_accuracy: 0.7506\n",
      "\n",
      "Epoch 00030: ReduceLROnPlateau reducing learning rate to 6.25000029685907e-05.\n"
     ]
    },
    {
     "data": {
      "text/plain": [
       "<keras.callbacks.callbacks.History at 0x7f80f390e940>"
      ]
     },
     "execution_count": 159,
     "metadata": {},
     "output_type": "execute_result"
    }
   ],
   "source": [
    "model.fit(x_train, y_train, batch_size=32, epochs=30, validation_split=0.10, callbacks=[learning_rate_reduction])"
   ]
  },
  {
   "cell_type": "code",
   "execution_count": 160,
   "metadata": {},
   "outputs": [
    {
     "name": "stdout",
     "output_type": "stream",
     "text": [
      "2003/2003 [==============================] - 1s 483us/step\n",
      "Test: accuracy = 0.774338  ;  loss = 0.754222\n"
     ]
    }
   ],
   "source": [
    "loss, accuracy = model.evaluate(x_test, y_test, verbose=1)\n",
    "print(\"Test: accuracy = %f  ;  loss = %f\" % (accuracy, loss))"
   ]
  }
 ],
 "metadata": {
  "kernelspec": {
   "display_name": "Python 3",
   "language": "python",
   "name": "python3"
  },
  "language_info": {
   "codemirror_mode": {
    "name": "ipython",
    "version": 3
   },
   "file_extension": ".py",
   "mimetype": "text/x-python",
   "name": "python",
   "nbconvert_exporter": "python",
   "pygments_lexer": "ipython3",
   "version": "3.6.8"
  }
 },
 "nbformat": 4,
 "nbformat_minor": 2
}
