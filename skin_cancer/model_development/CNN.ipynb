{
 "cells": [
  {
   "cell_type": "code",
   "execution_count": 1,
   "metadata": {},
   "outputs": [
    {
     "name": "stderr",
     "output_type": "stream",
     "text": [
      "Using TensorFlow backend.\n"
     ]
    }
   ],
   "source": [
    "import os\n",
    "import pandas as pd\n",
    "import numpy as np\n",
    "import kaggle\n",
    "import matplotlib.pyplot as plt\n",
    "\n",
    "from keras.datasets import mnist\n",
    "from keras.utils.np_utils import to_categorical\n",
    "from keras.callbacks import EarlyStopping\n",
    "from keras.preprocessing.image import ImageDataGenerator\n",
    "from keras.callbacks import ReduceLROnPlateau\n",
    "from keras.models import Sequential\n",
    "from keras.layers import Dense, Dropout, Flatten\n",
    "from keras.layers import Conv2D, MaxPooling2D\n",
    "from sklearn.model_selection import train_test_split\n",
    "from typing import Optional\n",
    "from kaggle.api.kaggle_api_extended import KaggleApi\n",
    "from PIL import Image"
   ]
  },
  {
   "cell_type": "code",
   "execution_count": 2,
   "metadata": {},
   "outputs": [
    {
     "name": "stdout",
     "output_type": "stream",
     "text": [
      "/mnt/c/Users/akaas/Documents/SM_project/project-folder/data\n"
     ]
    }
   ],
   "source": [
    "data_path = os.path.join(os.getcwd(), 'data')\n",
    "\n",
    "print(data_path)\n",
    "\n",
    "kaggle.api.authenticate()\n",
    "kaggle.api.dataset_download_files('kmader/skin-cancer-mnist-ham10000', path=data_path, unzip = True)"
   ]
  },
  {
   "cell_type": "code",
   "execution_count": 3,
   "metadata": {},
   "outputs": [],
   "source": [
    "data = pd.read_csv('data/hmnist_28_28_RGB.csv')"
   ]
  },
  {
   "cell_type": "code",
   "execution_count": 4,
   "metadata": {},
   "outputs": [
    {
     "data": {
      "text/html": [
       "<div>\n",
       "<style scoped>\n",
       "    .dataframe tbody tr th:only-of-type {\n",
       "        vertical-align: middle;\n",
       "    }\n",
       "\n",
       "    .dataframe tbody tr th {\n",
       "        vertical-align: top;\n",
       "    }\n",
       "\n",
       "    .dataframe thead th {\n",
       "        text-align: right;\n",
       "    }\n",
       "</style>\n",
       "<table border=\"1\" class=\"dataframe\">\n",
       "  <thead>\n",
       "    <tr style=\"text-align: right;\">\n",
       "      <th></th>\n",
       "      <th>pixel0000</th>\n",
       "      <th>pixel0001</th>\n",
       "      <th>pixel0002</th>\n",
       "      <th>pixel0003</th>\n",
       "      <th>pixel0004</th>\n",
       "      <th>pixel0005</th>\n",
       "      <th>pixel0006</th>\n",
       "      <th>pixel0007</th>\n",
       "      <th>pixel0008</th>\n",
       "      <th>pixel0009</th>\n",
       "      <th>...</th>\n",
       "      <th>pixel2343</th>\n",
       "      <th>pixel2344</th>\n",
       "      <th>pixel2345</th>\n",
       "      <th>pixel2346</th>\n",
       "      <th>pixel2347</th>\n",
       "      <th>pixel2348</th>\n",
       "      <th>pixel2349</th>\n",
       "      <th>pixel2350</th>\n",
       "      <th>pixel2351</th>\n",
       "      <th>label</th>\n",
       "    </tr>\n",
       "  </thead>\n",
       "  <tbody>\n",
       "    <tr>\n",
       "      <th>0</th>\n",
       "      <td>192</td>\n",
       "      <td>153</td>\n",
       "      <td>193</td>\n",
       "      <td>195</td>\n",
       "      <td>155</td>\n",
       "      <td>192</td>\n",
       "      <td>197</td>\n",
       "      <td>154</td>\n",
       "      <td>185</td>\n",
       "      <td>202</td>\n",
       "      <td>...</td>\n",
       "      <td>173</td>\n",
       "      <td>124</td>\n",
       "      <td>138</td>\n",
       "      <td>183</td>\n",
       "      <td>147</td>\n",
       "      <td>166</td>\n",
       "      <td>185</td>\n",
       "      <td>154</td>\n",
       "      <td>177</td>\n",
       "      <td>2</td>\n",
       "    </tr>\n",
       "    <tr>\n",
       "      <th>1</th>\n",
       "      <td>25</td>\n",
       "      <td>14</td>\n",
       "      <td>30</td>\n",
       "      <td>68</td>\n",
       "      <td>48</td>\n",
       "      <td>75</td>\n",
       "      <td>123</td>\n",
       "      <td>93</td>\n",
       "      <td>126</td>\n",
       "      <td>158</td>\n",
       "      <td>...</td>\n",
       "      <td>60</td>\n",
       "      <td>39</td>\n",
       "      <td>55</td>\n",
       "      <td>25</td>\n",
       "      <td>14</td>\n",
       "      <td>28</td>\n",
       "      <td>25</td>\n",
       "      <td>14</td>\n",
       "      <td>27</td>\n",
       "      <td>2</td>\n",
       "    </tr>\n",
       "    <tr>\n",
       "      <th>2</th>\n",
       "      <td>192</td>\n",
       "      <td>138</td>\n",
       "      <td>153</td>\n",
       "      <td>200</td>\n",
       "      <td>145</td>\n",
       "      <td>163</td>\n",
       "      <td>201</td>\n",
       "      <td>142</td>\n",
       "      <td>160</td>\n",
       "      <td>206</td>\n",
       "      <td>...</td>\n",
       "      <td>167</td>\n",
       "      <td>129</td>\n",
       "      <td>143</td>\n",
       "      <td>159</td>\n",
       "      <td>124</td>\n",
       "      <td>142</td>\n",
       "      <td>136</td>\n",
       "      <td>104</td>\n",
       "      <td>117</td>\n",
       "      <td>2</td>\n",
       "    </tr>\n",
       "    <tr>\n",
       "      <th>3</th>\n",
       "      <td>38</td>\n",
       "      <td>19</td>\n",
       "      <td>30</td>\n",
       "      <td>95</td>\n",
       "      <td>59</td>\n",
       "      <td>72</td>\n",
       "      <td>143</td>\n",
       "      <td>103</td>\n",
       "      <td>119</td>\n",
       "      <td>171</td>\n",
       "      <td>...</td>\n",
       "      <td>44</td>\n",
       "      <td>26</td>\n",
       "      <td>36</td>\n",
       "      <td>25</td>\n",
       "      <td>12</td>\n",
       "      <td>17</td>\n",
       "      <td>25</td>\n",
       "      <td>12</td>\n",
       "      <td>15</td>\n",
       "      <td>2</td>\n",
       "    </tr>\n",
       "    <tr>\n",
       "      <th>4</th>\n",
       "      <td>158</td>\n",
       "      <td>113</td>\n",
       "      <td>139</td>\n",
       "      <td>194</td>\n",
       "      <td>144</td>\n",
       "      <td>174</td>\n",
       "      <td>215</td>\n",
       "      <td>162</td>\n",
       "      <td>191</td>\n",
       "      <td>225</td>\n",
       "      <td>...</td>\n",
       "      <td>209</td>\n",
       "      <td>166</td>\n",
       "      <td>185</td>\n",
       "      <td>172</td>\n",
       "      <td>135</td>\n",
       "      <td>149</td>\n",
       "      <td>109</td>\n",
       "      <td>78</td>\n",
       "      <td>92</td>\n",
       "      <td>2</td>\n",
       "    </tr>\n",
       "  </tbody>\n",
       "</table>\n",
       "<p>5 rows × 2353 columns</p>\n",
       "</div>"
      ],
      "text/plain": [
       "   pixel0000  pixel0001  pixel0002  pixel0003  pixel0004  pixel0005  \\\n",
       "0        192        153        193        195        155        192   \n",
       "1         25         14         30         68         48         75   \n",
       "2        192        138        153        200        145        163   \n",
       "3         38         19         30         95         59         72   \n",
       "4        158        113        139        194        144        174   \n",
       "\n",
       "   pixel0006  pixel0007  pixel0008  pixel0009  ...    pixel2343  pixel2344  \\\n",
       "0        197        154        185        202  ...          173        124   \n",
       "1        123         93        126        158  ...           60         39   \n",
       "2        201        142        160        206  ...          167        129   \n",
       "3        143        103        119        171  ...           44         26   \n",
       "4        215        162        191        225  ...          209        166   \n",
       "\n",
       "   pixel2345  pixel2346  pixel2347  pixel2348  pixel2349  pixel2350  \\\n",
       "0        138        183        147        166        185        154   \n",
       "1         55         25         14         28         25         14   \n",
       "2        143        159        124        142        136        104   \n",
       "3         36         25         12         17         25         12   \n",
       "4        185        172        135        149        109         78   \n",
       "\n",
       "   pixel2351  label  \n",
       "0        177      2  \n",
       "1         27      2  \n",
       "2        117      2  \n",
       "3         15      2  \n",
       "4         92      2  \n",
       "\n",
       "[5 rows x 2353 columns]"
      ]
     },
     "execution_count": 4,
     "metadata": {},
     "output_type": "execute_result"
    }
   ],
   "source": [
    "data.head()"
   ]
  },
  {
   "cell_type": "markdown",
   "metadata": {},
   "source": [
    "**Understanding the data**\n",
    "\n",
    "The dataset includes 10015 images that are 28 x 28 pixels = 784 pixels As they are RGB images and not gray scale they must be multipled by 3 (R, G, B). In total, there are 2352 pixels. \n",
    "* Normalization is achieved by diving by 255\n",
    "* Data is split into training, validation, and test sets using scikit-learn\n",
    "* A model to test is created"
   ]
  },
  {
   "cell_type": "code",
   "execution_count": 5,
   "metadata": {},
   "outputs": [],
   "source": [
    "X = data.drop(columns='label')/255\n",
    "Y = data['label']\n",
    "\n",
    "num_rows, num_cols = 28, 28\n",
    "num_classes = len(set(Y))"
   ]
  },
  {
   "cell_type": "code",
   "execution_count": 6,
   "metadata": {},
   "outputs": [],
   "source": [
    "X = np.array(X)\n",
    "X = X.reshape(X.shape[0], num_rows, num_cols, 3)"
   ]
  },
  {
   "cell_type": "code",
   "execution_count": 7,
   "metadata": {},
   "outputs": [],
   "source": [
    "Y = np.eye(num_classes)[np.array(Y.astype(int)).reshape(-1)]"
   ]
  },
  {
   "cell_type": "code",
   "execution_count": 8,
   "metadata": {},
   "outputs": [],
   "source": [
    "X_train, X_test, y_train, y_test = train_test_split(X, Y, test_size=0.20, random_state=42)\n",
    "#Split the dataset into 80% training and 20% test"
   ]
  },
  {
   "cell_type": "code",
   "execution_count": 9,
   "metadata": {},
   "outputs": [],
   "source": [
    "X_train, X_validate, y_train, y_validate = train_test_split(X_train, y_train, test_size=0.10, random_state=42)\n",
    "#Split dataset into 10% of validation from training set"
   ]
  },
  {
   "cell_type": "code",
   "execution_count": 127,
   "metadata": {},
   "outputs": [
    {
     "name": "stdout",
     "output_type": "stream",
     "text": [
      "Model: \"sequential_9\"\n",
      "_________________________________________________________________\n",
      "Layer (type)                 Output Shape              Param #   \n",
      "=================================================================\n",
      "conv2d_33 (Conv2D)           (None, 28, 28, 32)        896       \n",
      "_________________________________________________________________\n",
      "conv2d_34 (Conv2D)           (None, 28, 28, 32)        9248      \n",
      "_________________________________________________________________\n",
      "max_pooling2d_17 (MaxPooling (None, 14, 14, 32)        0         \n",
      "_________________________________________________________________\n",
      "dropout_25 (Dropout)         (None, 14, 14, 32)        0         \n",
      "_________________________________________________________________\n",
      "conv2d_35 (Conv2D)           (None, 14, 14, 64)        18496     \n",
      "_________________________________________________________________\n",
      "conv2d_36 (Conv2D)           (None, 14, 14, 64)        36928     \n",
      "_________________________________________________________________\n",
      "max_pooling2d_18 (MaxPooling (None, 7, 7, 64)          0         \n",
      "_________________________________________________________________\n",
      "dropout_26 (Dropout)         (None, 7, 7, 64)          0         \n",
      "_________________________________________________________________\n",
      "flatten_9 (Flatten)          (None, 3136)              0         \n",
      "_________________________________________________________________\n",
      "dense_17 (Dense)             (None, 128)               401536    \n",
      "_________________________________________________________________\n",
      "dropout_27 (Dropout)         (None, 128)               0         \n",
      "_________________________________________________________________\n",
      "dense_18 (Dense)             (None, 7)                 903       \n",
      "=================================================================\n",
      "Total params: 468,007\n",
      "Trainable params: 468,007\n",
      "Non-trainable params: 0\n",
      "_________________________________________________________________\n"
     ]
    }
   ],
   "source": [
    "model = Sequential()\n",
    "model.add(Conv2D(32, kernel_size=(3, 3),activation='relu',padding = 'Same',input_shape=(num_rows, num_cols, 3)))\n",
    "model.add(Conv2D(32,kernel_size=(3, 3), activation='relu',padding = 'Same',))\n",
    "model.add(MaxPooling2D(pool_size = (2, 2)))\n",
    "model.add(Dropout(0.25))\n",
    "\n",
    "model.add(Conv2D(64, (3, 3), activation='relu',padding = 'Same'))\n",
    "model.add(Conv2D(64, (3, 3), activation='relu',padding = 'Same'))\n",
    "model.add(MaxPooling2D(pool_size=(2, 2)))\n",
    "model.add(Dropout(0.40))\n",
    "\n",
    "model.add(Flatten())\n",
    "model.add(Dense(128, activation='relu'))\n",
    "model.add(Dropout(0.5))\n",
    "model.add(Dense(num_classes, activation='softmax'))\n",
    "model.compile(loss='categorical_crossentropy',\n",
    "              optimizer='adam',\n",
    "              metrics=['accuracy'])\n",
    "model.summary()"
   ]
  },
  {
   "cell_type": "markdown",
   "metadata": {},
   "source": [
    "**Changes to the model**\n",
    "Early stopping\n",
    "Changing the drop %\n",
    "Including a train, test split (+ validation split within training)"
   ]
  },
  {
   "cell_type": "code",
   "execution_count": 128,
   "metadata": {},
   "outputs": [],
   "source": [
    "early_stopping = EarlyStopping(monitor='val_loss', patience=2)"
   ]
  },
  {
   "cell_type": "code",
   "execution_count": 129,
   "metadata": {
    "scrolled": true
   },
   "outputs": [
    {
     "name": "stdout",
     "output_type": "stream",
     "text": [
      "Train on 7210 samples, validate on 802 samples\n",
      "Epoch 1/30\n",
      "7210/7210 [==============================] - 16s 2ms/step - loss: 1.1078 - accuracy: 0.6680 - val_loss: 1.0070 - val_accuracy: 0.6596\n",
      "Epoch 2/30\n",
      "7210/7210 [==============================] - 14s 2ms/step - loss: 0.9602 - accuracy: 0.6753 - val_loss: 0.9218 - val_accuracy: 0.6783\n",
      "Epoch 3/30\n",
      "7210/7210 [==============================] - 15s 2ms/step - loss: 0.9070 - accuracy: 0.6803 - val_loss: 0.9016 - val_accuracy: 0.6808\n",
      "Epoch 4/30\n",
      "7210/7210 [==============================] - 15s 2ms/step - loss: 0.8747 - accuracy: 0.6850 - val_loss: 0.8671 - val_accuracy: 0.6796\n",
      "Epoch 5/30\n",
      "7210/7210 [==============================] - 15s 2ms/step - loss: 0.8629 - accuracy: 0.6877 - val_loss: 0.8809 - val_accuracy: 0.6808\n",
      "Epoch 6/30\n",
      "7210/7210 [==============================] - 17s 2ms/step - loss: 0.8354 - accuracy: 0.6890 - val_loss: 0.8653 - val_accuracy: 0.7020\n",
      "Epoch 7/30\n",
      "7210/7210 [==============================] - 21s 3ms/step - loss: 0.8088 - accuracy: 0.6956 - val_loss: 0.8356 - val_accuracy: 0.7007\n",
      "Epoch 8/30\n",
      "7210/7210 [==============================] - 15s 2ms/step - loss: 0.7941 - accuracy: 0.7010 - val_loss: 0.8139 - val_accuracy: 0.7007\n",
      "Epoch 9/30\n",
      "7210/7210 [==============================] - 16s 2ms/step - loss: 0.7628 - accuracy: 0.7158 - val_loss: 0.7995 - val_accuracy: 0.6970\n",
      "\n",
      "Epoch 00009: ReduceLROnPlateau reducing learning rate to 0.0005000000237487257.\n",
      "Epoch 10/30\n",
      "7210/7210 [==============================] - 18s 3ms/step - loss: 0.7188 - accuracy: 0.7245 - val_loss: 0.7632 - val_accuracy: 0.7170\n",
      "Epoch 11/30\n",
      "7210/7210 [==============================] - 17s 2ms/step - loss: 0.7114 - accuracy: 0.7340 - val_loss: 0.7404 - val_accuracy: 0.7257\n",
      "Epoch 12/30\n",
      "7210/7210 [==============================] - 16s 2ms/step - loss: 0.7001 - accuracy: 0.7383 - val_loss: 0.7559 - val_accuracy: 0.7282\n",
      "Epoch 13/30\n",
      "7210/7210 [==============================] - 16s 2ms/step - loss: 0.6859 - accuracy: 0.7427 - val_loss: 0.7503 - val_accuracy: 0.7344\n",
      "Epoch 14/30\n",
      "7210/7210 [==============================] - 15s 2ms/step - loss: 0.6729 - accuracy: 0.7479 - val_loss: 0.7361 - val_accuracy: 0.7319\n",
      "Epoch 15/30\n",
      "7210/7210 [==============================] - 15s 2ms/step - loss: 0.6623 - accuracy: 0.7497 - val_loss: 0.7617 - val_accuracy: 0.7332\n",
      "Epoch 16/30\n",
      "7210/7210 [==============================] - 16s 2ms/step - loss: 0.6562 - accuracy: 0.7533 - val_loss: 0.7384 - val_accuracy: 0.7406\n",
      "Epoch 17/30\n",
      "7210/7210 [==============================] - 15s 2ms/step - loss: 0.6462 - accuracy: 0.7603 - val_loss: 0.7435 - val_accuracy: 0.7481\n",
      "Epoch 18/30\n",
      "7210/7210 [==============================] - 16s 2ms/step - loss: 0.6364 - accuracy: 0.7635 - val_loss: 0.7521 - val_accuracy: 0.7431\n",
      "Epoch 19/30\n",
      "7210/7210 [==============================] - 16s 2ms/step - loss: 0.6248 - accuracy: 0.7667 - val_loss: 0.7384 - val_accuracy: 0.7307\n",
      "Epoch 20/30\n",
      "7210/7210 [==============================] - 15s 2ms/step - loss: 0.6188 - accuracy: 0.7624 - val_loss: 0.7207 - val_accuracy: 0.7506\n",
      "Epoch 21/30\n",
      "7210/7210 [==============================] - 15s 2ms/step - loss: 0.6148 - accuracy: 0.7702 - val_loss: 0.7076 - val_accuracy: 0.7319\n",
      "Epoch 22/30\n",
      "7210/7210 [==============================] - 15s 2ms/step - loss: 0.5930 - accuracy: 0.7788 - val_loss: 0.6863 - val_accuracy: 0.7431\n",
      "Epoch 23/30\n",
      "7210/7210 [==============================] - 15s 2ms/step - loss: 0.5953 - accuracy: 0.7775 - val_loss: 0.6888 - val_accuracy: 0.7469\n",
      "\n",
      "Epoch 00023: ReduceLROnPlateau reducing learning rate to 0.0002500000118743628.\n",
      "Epoch 24/30\n",
      "7210/7210 [==============================] - 16s 2ms/step - loss: 0.5570 - accuracy: 0.7921 - val_loss: 0.6796 - val_accuracy: 0.7581\n",
      "Epoch 25/30\n",
      "7210/7210 [==============================] - 15s 2ms/step - loss: 0.5505 - accuracy: 0.7922 - val_loss: 0.7456 - val_accuracy: 0.7456\n",
      "Epoch 26/30\n",
      "7210/7210 [==============================] - 17s 2ms/step - loss: 0.5540 - accuracy: 0.7906 - val_loss: 0.7012 - val_accuracy: 0.7531\n",
      "Epoch 27/30\n",
      "7210/7210 [==============================] - 15s 2ms/step - loss: 0.5427 - accuracy: 0.7953 - val_loss: 0.7018 - val_accuracy: 0.7456\n",
      "\n",
      "Epoch 00027: ReduceLROnPlateau reducing learning rate to 0.0001250000059371814.\n",
      "Epoch 28/30\n",
      "7210/7210 [==============================] - 15s 2ms/step - loss: 0.5279 - accuracy: 0.8008 - val_loss: 0.6789 - val_accuracy: 0.7643\n",
      "Epoch 29/30\n",
      "7210/7210 [==============================] - 15s 2ms/step - loss: 0.5190 - accuracy: 0.8043 - val_loss: 0.6933 - val_accuracy: 0.7556\n",
      "Epoch 30/30\n",
      "7210/7210 [==============================] - 15s 2ms/step - loss: 0.5174 - accuracy: 0.8046 - val_loss: 0.6897 - val_accuracy: 0.7581\n"
     ]
    },
    {
     "data": {
      "text/plain": [
       "<keras.callbacks.callbacks.History at 0x7f6e598bad30>"
      ]
     },
     "execution_count": 129,
     "metadata": {},
     "output_type": "execute_result"
    }
   ],
   "source": [
    "model.fit(X_train, y_train, batch_size=32, epochs=30, validation_data=(X_validate, y_validate), callbacks=[learning_rate_reduction])\n",
    "#10% drop 30% drop 50% drop"
   ]
  },
  {
   "cell_type": "code",
   "execution_count": 130,
   "metadata": {},
   "outputs": [
    {
     "name": "stdout",
     "output_type": "stream",
     "text": [
      "2003/2003 [==============================] - 1s 389us/step\n",
      "Test: accuracy = 0.758862  ;  loss = 0.659941\n"
     ]
    }
   ],
   "source": [
    "loss, accuracy = model.evaluate(X_test, y_test, verbose=1)\n",
    "print(\"Test: accuracy = %f  ;  loss = %f\" % (accuracy, loss))"
   ]
  },
  {
   "cell_type": "markdown",
   "metadata": {},
   "source": [
    "**Achieve a 93.5% Accuracy CNN**\n",
    "The following model using image resizing, learning rate reduction, and image data augmentation in order to create a CNN model with 93.5% accuracy. "
   ]
  },
  {
   "cell_type": "code",
   "execution_count": 16,
   "metadata": {},
   "outputs": [],
   "source": [
    "base_skin_dir = os.path.join('..', 'project-folder/data')\n",
    "imageid_path_dict = {os.path.splitext(os.path.basename(x))[0]: x\n",
    "                     for x in glob(os.path.join(base_skin_dir, '*', '*.jpg'))}\n",
    "\n",
    "lesion_type_dict = {\n",
    "    'nv': 'Melanocytic nevi',\n",
    "    'mel': 'Melanoma',\n",
    "    'bkl': 'Benign keratosis-like lesions ',\n",
    "    'bcc': 'Basal cell carcinoma',\n",
    "    'akiec': 'Actinic keratoses',\n",
    "    'vasc': 'Vascular lesions',\n",
    "    'df': 'Dermatofibroma'\n",
    "}"
   ]
  },
  {
   "cell_type": "code",
   "execution_count": 17,
   "metadata": {},
   "outputs": [
    {
     "data": {
      "text/html": [
       "<div>\n",
       "<style scoped>\n",
       "    .dataframe tbody tr th:only-of-type {\n",
       "        vertical-align: middle;\n",
       "    }\n",
       "\n",
       "    .dataframe tbody tr th {\n",
       "        vertical-align: top;\n",
       "    }\n",
       "\n",
       "    .dataframe thead th {\n",
       "        text-align: right;\n",
       "    }\n",
       "</style>\n",
       "<table border=\"1\" class=\"dataframe\">\n",
       "  <thead>\n",
       "    <tr style=\"text-align: right;\">\n",
       "      <th></th>\n",
       "      <th>lesion_id</th>\n",
       "      <th>image_id</th>\n",
       "      <th>dx</th>\n",
       "      <th>dx_type</th>\n",
       "      <th>age</th>\n",
       "      <th>sex</th>\n",
       "      <th>localization</th>\n",
       "      <th>path</th>\n",
       "      <th>cell_type</th>\n",
       "      <th>cell_type_idx</th>\n",
       "    </tr>\n",
       "  </thead>\n",
       "  <tbody>\n",
       "    <tr>\n",
       "      <th>9479</th>\n",
       "      <td>HAM_0004392</td>\n",
       "      <td>ISIC_0033355</td>\n",
       "      <td>nv</td>\n",
       "      <td>consensus</td>\n",
       "      <td>20.0</td>\n",
       "      <td>female</td>\n",
       "      <td>lower extremity</td>\n",
       "      <td>../project-folder/data/HAM10000_images_part_2/...</td>\n",
       "      <td>Melanocytic nevi</td>\n",
       "      <td>4</td>\n",
       "    </tr>\n",
       "    <tr>\n",
       "      <th>6320</th>\n",
       "      <td>HAM_0005562</td>\n",
       "      <td>ISIC_0025901</td>\n",
       "      <td>nv</td>\n",
       "      <td>follow_up</td>\n",
       "      <td>55.0</td>\n",
       "      <td>female</td>\n",
       "      <td>lower extremity</td>\n",
       "      <td>../project-folder/data/HAM10000_images_part_1/...</td>\n",
       "      <td>Melanocytic nevi</td>\n",
       "      <td>4</td>\n",
       "    </tr>\n",
       "    <tr>\n",
       "      <th>6869</th>\n",
       "      <td>HAM_0003912</td>\n",
       "      <td>ISIC_0030741</td>\n",
       "      <td>nv</td>\n",
       "      <td>histo</td>\n",
       "      <td>35.0</td>\n",
       "      <td>female</td>\n",
       "      <td>abdomen</td>\n",
       "      <td>../project-folder/data/HAM10000_images_part_2/...</td>\n",
       "      <td>Melanocytic nevi</td>\n",
       "      <td>4</td>\n",
       "    </tr>\n",
       "  </tbody>\n",
       "</table>\n",
       "</div>"
      ],
      "text/plain": [
       "        lesion_id      image_id  dx    dx_type   age     sex     localization  \\\n",
       "9479  HAM_0004392  ISIC_0033355  nv  consensus  20.0  female  lower extremity   \n",
       "6320  HAM_0005562  ISIC_0025901  nv  follow_up  55.0  female  lower extremity   \n",
       "6869  HAM_0003912  ISIC_0030741  nv      histo  35.0  female          abdomen   \n",
       "\n",
       "                                                   path         cell_type  \\\n",
       "9479  ../project-folder/data/HAM10000_images_part_2/...  Melanocytic nevi   \n",
       "6320  ../project-folder/data/HAM10000_images_part_1/...  Melanocytic nevi   \n",
       "6869  ../project-folder/data/HAM10000_images_part_2/...  Melanocytic nevi   \n",
       "\n",
       "      cell_type_idx  \n",
       "9479              4  \n",
       "6320              4  \n",
       "6869              4  "
      ]
     },
     "execution_count": 17,
     "metadata": {},
     "output_type": "execute_result"
    }
   ],
   "source": [
    "skin_data = pd.read_csv(os.path.join(base_skin_dir, 'HAM10000_metadata.csv'))\n",
    "skin_data['path'] = skin_data['image_id'].map(imageid_path_dict.get)\n",
    "skin_data['cell_type'] = skin_data['dx'].map(lesion_type_dict.get) \n",
    "skin_data['cell_type_idx'] = pd.Categorical(skin_data['cell_type']).codes\n",
    "skin_data.sample(3)\n",
    "#Match the images from the folders and include them in the csv file"
   ]
  },
  {
   "cell_type": "code",
   "execution_count": 18,
   "metadata": {},
   "outputs": [
    {
     "data": {
      "text/plain": [
       "lesion_id         0\n",
       "image_id          0\n",
       "dx                0\n",
       "dx_type           0\n",
       "age              57\n",
       "sex               0\n",
       "localization      0\n",
       "path              0\n",
       "cell_type         0\n",
       "cell_type_idx     0\n",
       "dtype: int64"
      ]
     },
     "execution_count": 18,
     "metadata": {},
     "output_type": "execute_result"
    }
   ],
   "source": [
    "skin_data.isnull().sum()"
   ]
  },
  {
   "cell_type": "code",
   "execution_count": 19,
   "metadata": {},
   "outputs": [],
   "source": [
    "skin_data['age'].fillna((skin_data['age'].mean()), inplace=True)\n",
    "#Replace null age with mean age"
   ]
  },
  {
   "cell_type": "code",
   "execution_count": 22,
   "metadata": {},
   "outputs": [],
   "source": [
    "skin_data['image'] = skin_data['path'].map(lambda x: np.asarray(Image.open(x).resize((28,28))))\n"
   ]
  },
  {
   "cell_type": "code",
   "execution_count": 24,
   "metadata": {},
   "outputs": [
    {
     "data": {
      "image/png": "[encoded data removed]",
      "text/plain": [
       "<matplotlib.figure.Figure at 0x7f59f75b1240>"
      ]
     },
     "metadata": {
      "needs_background": "light"
     },
     "output_type": "display_data"
    }
   ],
   "source": [
    "n_samples = 5\n",
    "fig, m_axs = plt.subplots(7, n_samples, figsize = (4*n_samples, 3*7))\n",
    "for n_axs, (type_name, type_rows) in zip(m_axs, \n",
    "                                         skin_data.sort_values(['cell_type']).groupby('cell_type')):\n",
    "    n_axs[0].set_title(type_name)\n",
    "    for c_ax, (_, c_row) in zip(n_axs, type_rows.sample(n_samples, random_state=6542).iterrows()):\n",
    "        c_ax.imshow(c_row['image'])\n",
    "        c_ax.axis('off')"
   ]
  },
  {
   "cell_type": "code",
   "execution_count": 25,
   "metadata": {},
   "outputs": [
    {
     "data": {
      "text/plain": [
       "(28, 28, 3)    10015\n",
       "Name: image, dtype: int64"
      ]
     },
     "execution_count": 25,
     "metadata": {},
     "output_type": "execute_result"
    }
   ],
   "source": [
    "# Checking the image size distribution\n",
    "skin_data['image'].map(lambda x: x.shape).value_counts()\n",
    "#Selected 28 x 37 to keep the aspect ratio and see if there is an improvement"
   ]
  },
  {
   "cell_type": "code",
   "execution_count": 10,
   "metadata": {},
   "outputs": [
    {
     "name": "stdout",
     "output_type": "stream",
     "text": [
      "WARNING:tensorflow:Large dropout rate: 0.55 (>0.5). In TensorFlow 2.x, dropout() uses dropout rate instead of keep_prob. Please ensure that this is intended.\n",
      "Model: \"sequential_1\"\n",
      "_________________________________________________________________\n",
      "Layer (type)                 Output Shape              Param #   \n",
      "=================================================================\n",
      "conv2d_1 (Conv2D)            (None, 28, 28, 32)        896       \n",
      "_________________________________________________________________\n",
      "conv2d_2 (Conv2D)            (None, 28, 28, 32)        9248      \n",
      "_________________________________________________________________\n",
      "max_pooling2d_1 (MaxPooling2 (None, 14, 14, 32)        0         \n",
      "_________________________________________________________________\n",
      "dropout_1 (Dropout)          (None, 14, 14, 32)        0         \n",
      "_________________________________________________________________\n",
      "conv2d_3 (Conv2D)            (None, 14, 14, 64)        18496     \n",
      "_________________________________________________________________\n",
      "conv2d_4 (Conv2D)            (None, 14, 14, 64)        36928     \n",
      "_________________________________________________________________\n",
      "max_pooling2d_2 (MaxPooling2 (None, 7, 7, 64)          0         \n",
      "_________________________________________________________________\n",
      "dropout_2 (Dropout)          (None, 7, 7, 64)          0         \n",
      "_________________________________________________________________\n",
      "conv2d_5 (Conv2D)            (None, 7, 7, 128)         73856     \n",
      "_________________________________________________________________\n",
      "max_pooling2d_3 (MaxPooling2 (None, 3, 3, 128)         0         \n",
      "_________________________________________________________________\n",
      "dropout_3 (Dropout)          (None, 3, 3, 128)         0         \n",
      "_________________________________________________________________\n",
      "flatten_1 (Flatten)          (None, 1152)              0         \n",
      "_________________________________________________________________\n",
      "dense_1 (Dense)              (None, 512)               590336    \n",
      "_________________________________________________________________\n",
      "dropout_4 (Dropout)          (None, 512)               0         \n",
      "_________________________________________________________________\n",
      "dense_2 (Dense)              (None, 7)                 3591      \n",
      "=================================================================\n",
      "Total params: 733,351\n",
      "Trainable params: 733,351\n",
      "Non-trainable params: 0\n",
      "_________________________________________________________________\n"
     ]
    }
   ],
   "source": [
    "input_shape = (28, 28, 3)\n",
    "num_classes = 7\n",
    "model = Sequential([\n",
    "    Conv2D(32, 3, padding='same', activation='relu', input_shape=input_shape),\n",
    "    Conv2D(32, 3, padding='same', activation='relu'),\n",
    "    MaxPooling2D(),\n",
    "    Dropout(0.25),\n",
    "\n",
    "    Conv2D(64, 3, padding='same', activation='relu', input_shape=input_shape),\n",
    "    Conv2D(64, 3, padding='same', activation='relu'),\n",
    "    MaxPooling2D(),\n",
    "    Dropout(0.4),\n",
    "    \n",
    "    Conv2D(128, 3, padding='same', activation='relu'),\n",
    "    MaxPooling2D(),\n",
    "    Dropout(0.5),\n",
    "    \n",
    "    Flatten(),\n",
    "    Dense(512, activation='relu'),\n",
    "    Dropout(0.55),\n",
    "    Dense(7, activation='softmax')\n",
    "])\n",
    "\n",
    "model.compile(optimizer='adam',\n",
    "              loss='binary_crossentropy',\n",
    "              metrics=['accuracy'])\n",
    "\n",
    "learning_rate_reduction = ReduceLROnPlateau(monitor='val_accuracy', \n",
    "                                            patience=3, \n",
    "                                            verbose=1, \n",
    "                                            factor=0.5, \n",
    "                                            min_lr=0.00001)\n",
    "\n",
    "model.summary()"
   ]
  },
  {
   "cell_type": "markdown",
   "metadata": {},
   "source": [
    "**Learning Rate Reduction**\n",
    "The learning rate refers to how quickly the model can be adapted to the problem. It is a method update the weights during training. Depending on the size, the epochs need to be adjusted accordingly because smaller learning rates make smaller changes, thus need more epochs, while large learning rates result in rapid changes, thus need fewer epochs. "
   ]
  },
  {
   "cell_type": "code",
   "execution_count": 11,
   "metadata": {},
   "outputs": [],
   "source": [
    "datagen = ImageDataGenerator(\n",
    "        featurewise_center=False,  \n",
    "        samplewise_center=False,  \n",
    "        featurewise_std_normalization=False,  \n",
    "        samplewise_std_normalization=False,  \n",
    "        zca_whitening=False,  \n",
    "        rotation_range=10,  \n",
    "        zoom_range = 0.1,\n",
    "        width_shift_range=0.1,  \n",
    "        height_shift_range=0.1,  \n",
    "        horizontal_flip=False,  \n",
    "        vertical_flip=False)  \n",
    "datagen.fit(X_train)"
   ]
  },
  {
   "cell_type": "markdown",
   "metadata": {},
   "source": [
    "**Image Data Augmentation**\n",
    "A problem with this dataset includes the overfitting of one class. Therefore, in order to combat this I wanted to used ImageDataGenerator, a function in keras, which takes a batch of training images and applies transformations (i.e., rotation, zoom, shifts). After these transformations are completed, this function returns the original data and the transformed data. \n",
    "randomly transforming it, and then returning the transformed data, which is used to train the CNN."
   ]
  },
  {
   "cell_type": "code",
   "execution_count": 13,
   "metadata": {},
   "outputs": [
    {
     "name": "stdout",
     "output_type": "stream",
     "text": [
      "Epoch 1/50\n",
      "72/72 [==============================] - 13s 184ms/step - loss: 0.2470 - accuracy: 0.9047 - val_loss: 0.2365 - val_accuracy: 0.9065\n",
      "Epoch 2/50\n",
      "72/72 [==============================] - 12s 163ms/step - loss: 0.2277 - accuracy: 0.9128 - val_loss: 0.2271 - val_accuracy: 0.9118\n",
      "Epoch 3/50\n",
      "72/72 [==============================] - 12s 163ms/step - loss: 0.2238 - accuracy: 0.9161 - val_loss: 0.2136 - val_accuracy: 0.9177\n",
      "Epoch 4/50\n",
      "72/72 [==============================] - 12s 164ms/step - loss: 0.2141 - accuracy: 0.9192 - val_loss: 0.2054 - val_accuracy: 0.9197\n",
      "Epoch 5/50\n",
      "72/72 [==============================] - 12s 168ms/step - loss: 0.2095 - accuracy: 0.9185 - val_loss: 0.2023 - val_accuracy: 0.9202\n",
      "Epoch 6/50\n",
      "72/72 [==============================] - 13s 177ms/step - loss: 0.2066 - accuracy: 0.9198 - val_loss: 0.2110 - val_accuracy: 0.9170\n",
      "Epoch 7/50\n",
      "72/72 [==============================] - 13s 183ms/step - loss: 0.2027 - accuracy: 0.9210 - val_loss: 0.2013 - val_accuracy: 0.9190\n",
      "Epoch 8/50\n",
      "72/72 [==============================] - 15s 205ms/step - loss: 0.1984 - accuracy: 0.9209 - val_loss: 0.2129 - val_accuracy: 0.9200\n",
      "\n",
      "Epoch 00008: ReduceLROnPlateau reducing learning rate to 0.0005000000237487257.\n",
      "Epoch 9/50\n",
      "72/72 [==============================] - 14s 196ms/step - loss: 0.1957 - accuracy: 0.9214 - val_loss: 0.1918 - val_accuracy: 0.9213\n",
      "Epoch 10/50\n",
      "72/72 [==============================] - 14s 195ms/step - loss: 0.1902 - accuracy: 0.9230 - val_loss: 0.1922 - val_accuracy: 0.9230\n",
      "Epoch 11/50\n",
      "72/72 [==============================] - 14s 199ms/step - loss: 0.1900 - accuracy: 0.9254 - val_loss: 0.1915 - val_accuracy: 0.9213\n",
      "Epoch 12/50\n",
      "72/72 [==============================] - 15s 208ms/step - loss: 0.1854 - accuracy: 0.9251 - val_loss: 0.1911 - val_accuracy: 0.9209\n",
      "Epoch 13/50\n",
      "72/72 [==============================] - 15s 209ms/step - loss: 0.1875 - accuracy: 0.9246 - val_loss: 0.1845 - val_accuracy: 0.9232\n",
      "Epoch 14/50\n",
      "72/72 [==============================] - 15s 208ms/step - loss: 0.1834 - accuracy: 0.9245 - val_loss: 0.1828 - val_accuracy: 0.9243\n",
      "Epoch 15/50\n",
      "72/72 [==============================] - 15s 210ms/step - loss: 0.1757 - accuracy: 0.9278 - val_loss: 0.1809 - val_accuracy: 0.9248\n",
      "Epoch 16/50\n",
      "72/72 [==============================] - 15s 207ms/step - loss: 0.1804 - accuracy: 0.9253 - val_loss: 0.1819 - val_accuracy: 0.9250\n",
      "Epoch 17/50\n",
      "72/72 [==============================] - 15s 213ms/step - loss: 0.1759 - accuracy: 0.9279 - val_loss: 0.1848 - val_accuracy: 0.9236\n",
      "Epoch 18/50\n",
      "72/72 [==============================] - 15s 213ms/step - loss: 0.1720 - accuracy: 0.9290 - val_loss: 0.1797 - val_accuracy: 0.9229\n",
      "Epoch 19/50\n",
      "72/72 [==============================] - 15s 207ms/step - loss: 0.1716 - accuracy: 0.9278 - val_loss: 0.1846 - val_accuracy: 0.9255\n",
      "Epoch 20/50\n",
      "72/72 [==============================] - 15s 210ms/step - loss: 0.1710 - accuracy: 0.9306 - val_loss: 0.1821 - val_accuracy: 0.9257\n",
      "Epoch 21/50\n",
      "72/72 [==============================] - 16s 217ms/step - loss: 0.1667 - accuracy: 0.9294 - val_loss: 0.1720 - val_accuracy: 0.9291\n",
      "Epoch 22/50\n",
      "72/72 [==============================] - 15s 208ms/step - loss: 0.1706 - accuracy: 0.9296 - val_loss: 0.1793 - val_accuracy: 0.9270\n",
      "Epoch 23/50\n",
      "72/72 [==============================] - 15s 210ms/step - loss: 0.1641 - accuracy: 0.9325 - val_loss: 0.1747 - val_accuracy: 0.9298\n",
      "Epoch 24/50\n",
      "72/72 [==============================] - 15s 212ms/step - loss: 0.1668 - accuracy: 0.9308 - val_loss: 0.1780 - val_accuracy: 0.9302\n",
      "Epoch 25/50\n",
      "72/72 [==============================] - 15s 210ms/step - loss: 0.1676 - accuracy: 0.9300 - val_loss: 0.1714 - val_accuracy: 0.9302\n",
      "Epoch 26/50\n",
      "72/72 [==============================] - 17s 234ms/step - loss: 0.1659 - accuracy: 0.9319 - val_loss: 0.1685 - val_accuracy: 0.9325\n",
      "Epoch 27/50\n",
      "72/72 [==============================] - 16s 219ms/step - loss: 0.1613 - accuracy: 0.9342 - val_loss: 0.1641 - val_accuracy: 0.9334\n",
      "Epoch 28/50\n",
      "72/72 [==============================] - 15s 208ms/step - loss: 0.1611 - accuracy: 0.9335 - val_loss: 0.1663 - val_accuracy: 0.9314\n",
      "Epoch 29/50\n",
      "72/72 [==============================] - 16s 216ms/step - loss: 0.1599 - accuracy: 0.9330 - val_loss: 0.1737 - val_accuracy: 0.9277\n",
      "Epoch 30/50\n",
      "72/72 [==============================] - 15s 208ms/step - loss: 0.1573 - accuracy: 0.9344 - val_loss: 0.1619 - val_accuracy: 0.9355\n",
      "Epoch 31/50\n",
      "72/72 [==============================] - 15s 211ms/step - loss: 0.1590 - accuracy: 0.9337 - val_loss: 0.1670 - val_accuracy: 0.9328\n",
      "Epoch 32/50\n",
      "72/72 [==============================] - 15s 207ms/step - loss: 0.1562 - accuracy: 0.9348 - val_loss: 0.1639 - val_accuracy: 0.9341\n",
      "Epoch 33/50\n",
      "72/72 [==============================] - 15s 211ms/step - loss: 0.1546 - accuracy: 0.9363 - val_loss: 0.1694 - val_accuracy: 0.9321\n",
      "\n",
      "Epoch 00033: ReduceLROnPlateau reducing learning rate to 0.0002500000118743628.\n",
      "Epoch 34/50\n",
      "72/72 [==============================] - 15s 205ms/step - loss: 0.1533 - accuracy: 0.9371 - val_loss: 0.1622 - val_accuracy: 0.9350\n",
      "Epoch 35/50\n",
      "72/72 [==============================] - 15s 215ms/step - loss: 0.1519 - accuracy: 0.9376 - val_loss: 0.1602 - val_accuracy: 0.9366\n",
      "Epoch 36/50\n",
      "72/72 [==============================] - 15s 205ms/step - loss: 0.1509 - accuracy: 0.9374 - val_loss: 0.1610 - val_accuracy: 0.9377\n",
      "Epoch 37/50\n",
      "72/72 [==============================] - 16s 219ms/step - loss: 0.1491 - accuracy: 0.9384 - val_loss: 0.1585 - val_accuracy: 0.9369\n",
      "Epoch 38/50\n",
      "72/72 [==============================] - 15s 210ms/step - loss: 0.1528 - accuracy: 0.9381 - val_loss: 0.1588 - val_accuracy: 0.9352\n",
      "Epoch 39/50\n",
      "72/72 [==============================] - 15s 210ms/step - loss: 0.1483 - accuracy: 0.9382 - val_loss: 0.1555 - val_accuracy: 0.9375\n",
      "\n",
      "Epoch 00039: ReduceLROnPlateau reducing learning rate to 0.0001250000059371814.\n",
      "Epoch 40/50\n",
      "72/72 [==============================] - 15s 210ms/step - loss: 0.1463 - accuracy: 0.9388 - val_loss: 0.1585 - val_accuracy: 0.9377\n",
      "Epoch 41/50\n",
      "72/72 [==============================] - 15s 213ms/step - loss: 0.1483 - accuracy: 0.9380 - val_loss: 0.1553 - val_accuracy: 0.9387\n",
      "Epoch 42/50\n",
      "72/72 [==============================] - 15s 206ms/step - loss: 0.1422 - accuracy: 0.9406 - val_loss: 0.1573 - val_accuracy: 0.9377\n",
      "Epoch 43/50\n",
      "72/72 [==============================] - 15s 206ms/step - loss: 0.1461 - accuracy: 0.9394 - val_loss: 0.1589 - val_accuracy: 0.9368\n",
      "Epoch 44/50\n",
      "72/72 [==============================] - 15s 206ms/step - loss: 0.1470 - accuracy: 0.9394 - val_loss: 0.1544 - val_accuracy: 0.9387\n",
      "\n",
      "Epoch 00044: ReduceLROnPlateau reducing learning rate to 6.25000029685907e-05.\n",
      "Epoch 45/50\n",
      "72/72 [==============================] - 16s 215ms/step - loss: 0.1442 - accuracy: 0.9400 - val_loss: 0.1556 - val_accuracy: 0.9378\n",
      "Epoch 46/50\n",
      "72/72 [==============================] - 15s 213ms/step - loss: 0.1436 - accuracy: 0.9406 - val_loss: 0.1559 - val_accuracy: 0.9394\n",
      "Epoch 47/50\n",
      "72/72 [==============================] - 15s 211ms/step - loss: 0.1438 - accuracy: 0.9412 - val_loss: 0.1550 - val_accuracy: 0.9371\n",
      "Epoch 48/50\n",
      "72/72 [==============================] - 15s 205ms/step - loss: 0.1445 - accuracy: 0.9408 - val_loss: 0.1541 - val_accuracy: 0.9387\n",
      "Epoch 49/50\n",
      "72/72 [==============================] - 15s 209ms/step - loss: 0.1429 - accuracy: 0.9404 - val_loss: 0.1539 - val_accuracy: 0.9378\n",
      "\n",
      "Epoch 00049: ReduceLROnPlateau reducing learning rate to 3.125000148429535e-05.\n",
      "Epoch 50/50\n",
      "72/72 [==============================] - 15s 206ms/step - loss: 0.1446 - accuracy: 0.9396 - val_loss: 0.1535 - val_accuracy: 0.9382\n"
     ]
    }
   ],
   "source": [
    "epochs = 50 \n",
    "batch_size = 100\n",
    "history = model.fit_generator(\n",
    "    datagen.flow(X_train,y_train, batch_size=batch_size),\n",
    "    steps_per_epoch=X_train.shape[0] // batch_size,\n",
    "    epochs=epochs,\n",
    "    validation_data=(X_validate,y_validate),\n",
    "    validation_steps=X_validate.shape[0] // batch_size\n",
    "    ,callbacks=[learning_rate_reduction]\n",
    ")"
   ]
  },
  {
   "cell_type": "code",
   "execution_count": 27,
   "metadata": {},
   "outputs": [
    {
     "name": "stdout",
     "output_type": "stream",
     "text": [
      "2003/2003 [==============================] - 2s 750us/step\n",
      "Test: accuracy = 0.935026  ;  loss = 0.157238\n"
     ]
    }
   ],
   "source": [
    "loss, accuracy = model.evaluate(X_test, y_test, verbose=1)\n",
    "print(\"Test: accuracy = %f  ;  loss = %f\" % (accuracy, loss))\n",
    "#Somehow it improved using the validation train and test that was randomly split\n",
    "#Early stopping was not good, reduced learning rate better"
   ]
  }
 ],
 "metadata": {
  "kernelspec": {
   "display_name": "Python 3",
   "language": "python",
   "name": "python3"
  },
  "language_info": {
   "codemirror_mode": {
    "name": "ipython",
    "version": 3
   },
   "file_extension": ".py",
   "mimetype": "text/x-python",
   "name": "python",
   "nbconvert_exporter": "python",
   "pygments_lexer": "ipython3",
   "version": "3.6.8"
  }
 },
 "nbformat": 4,
 "nbformat_minor": 2
}
